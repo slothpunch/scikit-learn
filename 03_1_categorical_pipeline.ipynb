{
  "cells": [
    {
      "cell_type": "markdown",
      "metadata": {
        "id": "view-in-github",
        "colab_type": "text"
      },
      "source": [
        "<a href=\"https://colab.research.google.com/github/slothpunch/scikit-learn/blob/main/03_1_categorical_pipeline.ipynb\" target=\"_parent\"><img src=\"https://colab.research.google.com/assets/colab-badge.svg\" alt=\"Open In Colab\"/></a>"
      ]
    },
    {
      "cell_type": "markdown",
      "metadata": {
        "id": "SA7abLqK8jA4"
      },
      "source": [
        "# Encoding of categorical variables\n",
        "\n",
        "In this notebook, we will present typical ways of dealing with\n",
        "**categorical variables** by encoding them, namely **ordinal encoding** and\n",
        "**one-hot encoding**."
      ],
      "id": "SA7abLqK8jA4"
    },
    {
      "cell_type": "markdown",
      "metadata": {
        "id": "7gWXsTNY8jBA"
      },
      "source": [
        "Let's first load the entire adult dataset containing both numerical and\n",
        "categorical data."
      ],
      "id": "7gWXsTNY8jBA"
    },
    {
      "cell_type": "code",
      "source": [
        "from google.colab import drive\n",
        "drive.mount('/content/drive')"
      ],
      "metadata": {
        "colab": {
          "base_uri": "https://localhost:8080/"
        },
        "id": "0pIImYNuE7bK",
        "outputId": "22ec0c8e-0e5a-4912-ff66-e8ac056da15e"
      },
      "id": "0pIImYNuE7bK",
      "execution_count": 1,
      "outputs": [
        {
          "output_type": "stream",
          "name": "stdout",
          "text": [
            "Mounted at /content/drive\n"
          ]
        }
      ]
    },
    {
      "cell_type": "code",
      "source": [
        "import os\n",
        "\n",
        "os.chdir('..')\n",
        "os.chdir('content/drive/MyDrive/Colab Notebooks/scikit-learn/')\n",
        "os.listdir()"
      ],
      "metadata": {
        "colab": {
          "base_uri": "https://localhost:8080/"
        },
        "id": "uFxnPX68E77X",
        "outputId": "3cc42ae4-3859-4aa9-98ea-fe2154cc8978"
      },
      "id": "uFxnPX68E77X",
      "execution_count": 2,
      "outputs": [
        {
          "output_type": "execute_result",
          "data": {
            "text/plain": [
              "['datasets',\n",
              " 'Module 1. The predictive modelling pipeline',\n",
              " 'notebooks.gz',\n",
              " 'notebooks']"
            ]
          },
          "metadata": {},
          "execution_count": 2
        }
      ]
    },
    {
      "cell_type": "code",
      "execution_count": 3,
      "metadata": {
        "id": "EEFb6AIH8jBB"
      },
      "outputs": [],
      "source": [
        "import pandas as pd\n",
        "\n",
        "adult_census = pd.read_csv(\"datasets/adult-census.csv\")\n",
        "# drop the duplicated column `\"education-num\"` as stated in the first notebook\n",
        "adult_census = adult_census.drop(columns=\"education-num\")\n",
        "\n",
        "target_name = \"class\"\n",
        "target = adult_census[target_name]\n",
        "\n",
        "data = adult_census.drop(columns=[target_name])"
      ],
      "id": "EEFb6AIH8jBB"
    },
    {
      "cell_type": "markdown",
      "metadata": {
        "id": "yboen5wV8jBD"
      },
      "source": [
        "\n",
        "## Identify categorical variables\n",
        "\n",
        "As we saw in the previous section, a numerical variable is a\n",
        "quantity represented by a real or integer number. These variables can be\n",
        "naturally handled by machine learning algorithms that are typically composed\n",
        "of a sequence of arithmetic instructions such as additions and\n",
        "multiplications.\n",
        "\n",
        "In contrast, categorical variables have discrete values, typically\n",
        "represented by string labels (but not only) taken from a finite list of\n",
        "possible choices. For instance, the variable `native-country` in our dataset\n",
        "is a categorical variable because it encodes the data using a finite list of\n",
        "possible countries (along with the `?` symbol when this information is\n",
        "missing):"
      ],
      "id": "yboen5wV8jBD"
    },
    {
      "cell_type": "code",
      "source": [
        "data.head(1)"
      ],
      "metadata": {
        "colab": {
          "base_uri": "https://localhost:8080/",
          "height": 159
        },
        "id": "4e-V4k7AHfDm",
        "outputId": "8d894c26-1c8b-42ae-e6c8-20072acc48cd"
      },
      "id": "4e-V4k7AHfDm",
      "execution_count": null,
      "outputs": [
        {
          "output_type": "execute_result",
          "data": {
            "text/html": [
              "\n",
              "  <div id=\"df-3c2547f5-5b29-4600-855f-225fedca224f\">\n",
              "    <div class=\"colab-df-container\">\n",
              "      <div>\n",
              "<style scoped>\n",
              "    .dataframe tbody tr th:only-of-type {\n",
              "        vertical-align: middle;\n",
              "    }\n",
              "\n",
              "    .dataframe tbody tr th {\n",
              "        vertical-align: top;\n",
              "    }\n",
              "\n",
              "    .dataframe thead th {\n",
              "        text-align: right;\n",
              "    }\n",
              "</style>\n",
              "<table border=\"1\" class=\"dataframe\">\n",
              "  <thead>\n",
              "    <tr style=\"text-align: right;\">\n",
              "      <th></th>\n",
              "      <th>age</th>\n",
              "      <th>workclass</th>\n",
              "      <th>education</th>\n",
              "      <th>marital-status</th>\n",
              "      <th>occupation</th>\n",
              "      <th>relationship</th>\n",
              "      <th>race</th>\n",
              "      <th>sex</th>\n",
              "      <th>capital-gain</th>\n",
              "      <th>capital-loss</th>\n",
              "      <th>hours-per-week</th>\n",
              "      <th>native-country</th>\n",
              "    </tr>\n",
              "  </thead>\n",
              "  <tbody>\n",
              "    <tr>\n",
              "      <th>0</th>\n",
              "      <td>25</td>\n",
              "      <td>Private</td>\n",
              "      <td>11th</td>\n",
              "      <td>Never-married</td>\n",
              "      <td>Machine-op-inspct</td>\n",
              "      <td>Own-child</td>\n",
              "      <td>Black</td>\n",
              "      <td>Male</td>\n",
              "      <td>0</td>\n",
              "      <td>0</td>\n",
              "      <td>40</td>\n",
              "      <td>United-States</td>\n",
              "    </tr>\n",
              "  </tbody>\n",
              "</table>\n",
              "</div>\n",
              "      <button class=\"colab-df-convert\" onclick=\"convertToInteractive('df-3c2547f5-5b29-4600-855f-225fedca224f')\"\n",
              "              title=\"Convert this dataframe to an interactive table.\"\n",
              "              style=\"display:none;\">\n",
              "        \n",
              "  <svg xmlns=\"http://www.w3.org/2000/svg\" height=\"24px\"viewBox=\"0 0 24 24\"\n",
              "       width=\"24px\">\n",
              "    <path d=\"M0 0h24v24H0V0z\" fill=\"none\"/>\n",
              "    <path d=\"M18.56 5.44l.94 2.06.94-2.06 2.06-.94-2.06-.94-.94-2.06-.94 2.06-2.06.94zm-11 1L8.5 8.5l.94-2.06 2.06-.94-2.06-.94L8.5 2.5l-.94 2.06-2.06.94zm10 10l.94 2.06.94-2.06 2.06-.94-2.06-.94-.94-2.06-.94 2.06-2.06.94z\"/><path d=\"M17.41 7.96l-1.37-1.37c-.4-.4-.92-.59-1.43-.59-.52 0-1.04.2-1.43.59L10.3 9.45l-7.72 7.72c-.78.78-.78 2.05 0 2.83L4 21.41c.39.39.9.59 1.41.59.51 0 1.02-.2 1.41-.59l7.78-7.78 2.81-2.81c.8-.78.8-2.07 0-2.86zM5.41 20L4 18.59l7.72-7.72 1.47 1.35L5.41 20z\"/>\n",
              "  </svg>\n",
              "      </button>\n",
              "      \n",
              "  <style>\n",
              "    .colab-df-container {\n",
              "      display:flex;\n",
              "      flex-wrap:wrap;\n",
              "      gap: 12px;\n",
              "    }\n",
              "\n",
              "    .colab-df-convert {\n",
              "      background-color: #E8F0FE;\n",
              "      border: none;\n",
              "      border-radius: 50%;\n",
              "      cursor: pointer;\n",
              "      display: none;\n",
              "      fill: #1967D2;\n",
              "      height: 32px;\n",
              "      padding: 0 0 0 0;\n",
              "      width: 32px;\n",
              "    }\n",
              "\n",
              "    .colab-df-convert:hover {\n",
              "      background-color: #E2EBFA;\n",
              "      box-shadow: 0px 1px 2px rgba(60, 64, 67, 0.3), 0px 1px 3px 1px rgba(60, 64, 67, 0.15);\n",
              "      fill: #174EA6;\n",
              "    }\n",
              "\n",
              "    [theme=dark] .colab-df-convert {\n",
              "      background-color: #3B4455;\n",
              "      fill: #D2E3FC;\n",
              "    }\n",
              "\n",
              "    [theme=dark] .colab-df-convert:hover {\n",
              "      background-color: #434B5C;\n",
              "      box-shadow: 0px 1px 3px 1px rgba(0, 0, 0, 0.15);\n",
              "      filter: drop-shadow(0px 1px 2px rgba(0, 0, 0, 0.3));\n",
              "      fill: #FFFFFF;\n",
              "    }\n",
              "  </style>\n",
              "\n",
              "      <script>\n",
              "        const buttonEl =\n",
              "          document.querySelector('#df-3c2547f5-5b29-4600-855f-225fedca224f button.colab-df-convert');\n",
              "        buttonEl.style.display =\n",
              "          google.colab.kernel.accessAllowed ? 'block' : 'none';\n",
              "\n",
              "        async function convertToInteractive(key) {\n",
              "          const element = document.querySelector('#df-3c2547f5-5b29-4600-855f-225fedca224f');\n",
              "          const dataTable =\n",
              "            await google.colab.kernel.invokeFunction('convertToInteractive',\n",
              "                                                     [key], {});\n",
              "          if (!dataTable) return;\n",
              "\n",
              "          const docLinkHtml = 'Like what you see? Visit the ' +\n",
              "            '<a target=\"_blank\" href=https://colab.research.google.com/notebooks/data_table.ipynb>data table notebook</a>'\n",
              "            + ' to learn more about interactive tables.';\n",
              "          element.innerHTML = '';\n",
              "          dataTable['output_type'] = 'display_data';\n",
              "          await google.colab.output.renderOutput(dataTable, element);\n",
              "          const docLink = document.createElement('div');\n",
              "          docLink.innerHTML = docLinkHtml;\n",
              "          element.appendChild(docLink);\n",
              "        }\n",
              "      </script>\n",
              "    </div>\n",
              "  </div>\n",
              "  "
            ],
            "text/plain": [
              "   age workclass education  marital-status          occupation relationship  \\\n",
              "0   25   Private      11th   Never-married   Machine-op-inspct    Own-child   \n",
              "\n",
              "     race    sex  capital-gain  capital-loss  hours-per-week  native-country  \n",
              "0   Black   Male             0             0              40   United-States  "
            ]
          },
          "metadata": {},
          "execution_count": 6
        }
      ]
    },
    {
      "cell_type": "code",
      "execution_count": null,
      "metadata": {
        "id": "pWXAn2868jBE",
        "colab": {
          "base_uri": "https://localhost:8080/"
        },
        "outputId": "e5f9bd0e-b688-4d6e-d298-47bef2c399da"
      },
      "outputs": [
        {
          "output_type": "execute_result",
          "data": {
            "text/plain": [
              " ?                               857\n",
              " Cambodia                         28\n",
              " Canada                          182\n",
              " China                           122\n",
              " Columbia                         85\n",
              " Cuba                            138\n",
              " Dominican-Republic              103\n",
              " Ecuador                          45\n",
              " El-Salvador                     155\n",
              " England                         127\n",
              " France                           38\n",
              " Germany                         206\n",
              " Greece                           49\n",
              " Guatemala                        88\n",
              " Haiti                            75\n",
              " Holand-Netherlands                1\n",
              " Honduras                         20\n",
              " Hong                             30\n",
              " Hungary                          19\n",
              " India                           151\n",
              " Iran                             59\n",
              " Ireland                          37\n",
              " Italy                           105\n",
              " Jamaica                         106\n",
              " Japan                            92\n",
              " Laos                             23\n",
              " Mexico                          951\n",
              " Nicaragua                        49\n",
              " Outlying-US(Guam-USVI-etc)       23\n",
              " Peru                             46\n",
              " Philippines                     295\n",
              " Poland                           87\n",
              " Portugal                         67\n",
              " Puerto-Rico                     184\n",
              " Scotland                         21\n",
              " South                           115\n",
              " Taiwan                           65\n",
              " Thailand                         30\n",
              " Trinadad&Tobago                  27\n",
              " United-States                 43832\n",
              " Vietnam                          86\n",
              " Yugoslavia                       23\n",
              "Name: native-country, dtype: int64"
            ]
          },
          "metadata": {},
          "execution_count": 7
        }
      ],
      "source": [
        "data[\"native-country\"].value_counts().sort_index()"
      ],
      "id": "pWXAn2868jBE"
    },
    {
      "cell_type": "markdown",
      "metadata": {
        "id": "qwyuvRtX8jBF"
      },
      "source": [
        "How can we easily recognize categorical columns among the dataset? Part of\n",
        "the answer lies in the columns' data type:"
      ],
      "id": "qwyuvRtX8jBF"
    },
    {
      "cell_type": "code",
      "execution_count": null,
      "metadata": {
        "id": "I0N-Emns8jBG",
        "colab": {
          "base_uri": "https://localhost:8080/"
        },
        "outputId": "fb27a9cc-361d-4776-d8eb-d5837fd24f98"
      },
      "outputs": [
        {
          "output_type": "execute_result",
          "data": {
            "text/plain": [
              "age                int64\n",
              "workclass         object\n",
              "education         object\n",
              "marital-status    object\n",
              "occupation        object\n",
              "relationship      object\n",
              "race              object\n",
              "sex               object\n",
              "capital-gain       int64\n",
              "capital-loss       int64\n",
              "hours-per-week     int64\n",
              "native-country    object\n",
              "dtype: object"
            ]
          },
          "metadata": {},
          "execution_count": 8
        }
      ],
      "source": [
        "data.dtypes"
      ],
      "id": "I0N-Emns8jBG"
    },
    {
      "cell_type": "markdown",
      "metadata": {
        "id": "pqdJkRwy8jBI"
      },
      "source": [
        "If we look at the `\"native-country\"` column, we observe its data type is\n",
        "`object`, meaning it contains string values.\n",
        "\n",
        "## Select features based on their data type\n",
        "\n",
        "In the previous notebook, we manually defined the numerical columns. We could\n",
        "do a similar approach. Instead, we will use the scikit-learn helper function\n",
        "`make_column_selector`, which allows us to select columns based on\n",
        "their data type. We will illustrate how to use this helper."
      ],
      "id": "pqdJkRwy8jBI"
    },
    {
      "cell_type": "code",
      "execution_count": 4,
      "metadata": {
        "id": "yZAPRYv28jBJ",
        "colab": {
          "base_uri": "https://localhost:8080/"
        },
        "outputId": "b72de83a-50d3-419e-aab8-0bc668935e21"
      },
      "outputs": [
        {
          "output_type": "execute_result",
          "data": {
            "text/plain": [
              "['workclass',\n",
              " 'education',\n",
              " 'marital-status',\n",
              " 'occupation',\n",
              " 'relationship',\n",
              " 'race',\n",
              " 'sex',\n",
              " 'native-country']"
            ]
          },
          "metadata": {},
          "execution_count": 4
        }
      ],
      "source": [
        "from sklearn.compose import make_column_selector as selector\n",
        "\n",
        "categorical_columns_selector = selector(dtype_include=object)\n",
        "categorical_columns = categorical_columns_selector(data)\n",
        "categorical_columns # list"
      ],
      "id": "yZAPRYv28jBJ"
    },
    {
      "cell_type": "code",
      "source": [
        "# numerical columns\n",
        "selector(dtype_include = 'int64')(data)"
      ],
      "metadata": {
        "colab": {
          "base_uri": "https://localhost:8080/"
        },
        "id": "8anGq62NJLwe",
        "outputId": "9a89d300-eaca-4818-d1f4-204e0a5879b3"
      },
      "id": "8anGq62NJLwe",
      "execution_count": null,
      "outputs": [
        {
          "output_type": "execute_result",
          "data": {
            "text/plain": [
              "['age', 'capital-gain', 'capital-loss', 'hours-per-week']"
            ]
          },
          "metadata": {},
          "execution_count": 24
        }
      ]
    },
    {
      "cell_type": "markdown",
      "metadata": {
        "id": "ERG5ysCk8jBK"
      },
      "source": [
        "Here, we created the selector by passing the data type to include; we then\n",
        "passed the input dataset to the selector object, which returned a list of\n",
        "column names that have the requested data type. We can now filter out the\n",
        "unwanted columns:"
      ],
      "id": "ERG5ysCk8jBK"
    },
    {
      "cell_type": "code",
      "execution_count": 5,
      "metadata": {
        "id": "SgE3Lwej8jBL",
        "colab": {
          "base_uri": "https://localhost:8080/",
          "height": 206
        },
        "outputId": "3c0236f3-50aa-4eb0-96ae-3f46b87de5b1"
      },
      "outputs": [
        {
          "output_type": "execute_result",
          "data": {
            "text/html": [
              "\n",
              "  <div id=\"df-562be2e7-12f7-4d47-9ede-3f174fa0981d\">\n",
              "    <div class=\"colab-df-container\">\n",
              "      <div>\n",
              "<style scoped>\n",
              "    .dataframe tbody tr th:only-of-type {\n",
              "        vertical-align: middle;\n",
              "    }\n",
              "\n",
              "    .dataframe tbody tr th {\n",
              "        vertical-align: top;\n",
              "    }\n",
              "\n",
              "    .dataframe thead th {\n",
              "        text-align: right;\n",
              "    }\n",
              "</style>\n",
              "<table border=\"1\" class=\"dataframe\">\n",
              "  <thead>\n",
              "    <tr style=\"text-align: right;\">\n",
              "      <th></th>\n",
              "      <th>workclass</th>\n",
              "      <th>education</th>\n",
              "      <th>marital-status</th>\n",
              "      <th>occupation</th>\n",
              "      <th>relationship</th>\n",
              "      <th>race</th>\n",
              "      <th>sex</th>\n",
              "      <th>native-country</th>\n",
              "    </tr>\n",
              "  </thead>\n",
              "  <tbody>\n",
              "    <tr>\n",
              "      <th>0</th>\n",
              "      <td>Private</td>\n",
              "      <td>11th</td>\n",
              "      <td>Never-married</td>\n",
              "      <td>Machine-op-inspct</td>\n",
              "      <td>Own-child</td>\n",
              "      <td>Black</td>\n",
              "      <td>Male</td>\n",
              "      <td>United-States</td>\n",
              "    </tr>\n",
              "    <tr>\n",
              "      <th>1</th>\n",
              "      <td>Private</td>\n",
              "      <td>HS-grad</td>\n",
              "      <td>Married-civ-spouse</td>\n",
              "      <td>Farming-fishing</td>\n",
              "      <td>Husband</td>\n",
              "      <td>White</td>\n",
              "      <td>Male</td>\n",
              "      <td>United-States</td>\n",
              "    </tr>\n",
              "    <tr>\n",
              "      <th>2</th>\n",
              "      <td>Local-gov</td>\n",
              "      <td>Assoc-acdm</td>\n",
              "      <td>Married-civ-spouse</td>\n",
              "      <td>Protective-serv</td>\n",
              "      <td>Husband</td>\n",
              "      <td>White</td>\n",
              "      <td>Male</td>\n",
              "      <td>United-States</td>\n",
              "    </tr>\n",
              "    <tr>\n",
              "      <th>3</th>\n",
              "      <td>Private</td>\n",
              "      <td>Some-college</td>\n",
              "      <td>Married-civ-spouse</td>\n",
              "      <td>Machine-op-inspct</td>\n",
              "      <td>Husband</td>\n",
              "      <td>Black</td>\n",
              "      <td>Male</td>\n",
              "      <td>United-States</td>\n",
              "    </tr>\n",
              "    <tr>\n",
              "      <th>4</th>\n",
              "      <td>?</td>\n",
              "      <td>Some-college</td>\n",
              "      <td>Never-married</td>\n",
              "      <td>?</td>\n",
              "      <td>Own-child</td>\n",
              "      <td>White</td>\n",
              "      <td>Female</td>\n",
              "      <td>United-States</td>\n",
              "    </tr>\n",
              "  </tbody>\n",
              "</table>\n",
              "</div>\n",
              "      <button class=\"colab-df-convert\" onclick=\"convertToInteractive('df-562be2e7-12f7-4d47-9ede-3f174fa0981d')\"\n",
              "              title=\"Convert this dataframe to an interactive table.\"\n",
              "              style=\"display:none;\">\n",
              "        \n",
              "  <svg xmlns=\"http://www.w3.org/2000/svg\" height=\"24px\"viewBox=\"0 0 24 24\"\n",
              "       width=\"24px\">\n",
              "    <path d=\"M0 0h24v24H0V0z\" fill=\"none\"/>\n",
              "    <path d=\"M18.56 5.44l.94 2.06.94-2.06 2.06-.94-2.06-.94-.94-2.06-.94 2.06-2.06.94zm-11 1L8.5 8.5l.94-2.06 2.06-.94-2.06-.94L8.5 2.5l-.94 2.06-2.06.94zm10 10l.94 2.06.94-2.06 2.06-.94-2.06-.94-.94-2.06-.94 2.06-2.06.94z\"/><path d=\"M17.41 7.96l-1.37-1.37c-.4-.4-.92-.59-1.43-.59-.52 0-1.04.2-1.43.59L10.3 9.45l-7.72 7.72c-.78.78-.78 2.05 0 2.83L4 21.41c.39.39.9.59 1.41.59.51 0 1.02-.2 1.41-.59l7.78-7.78 2.81-2.81c.8-.78.8-2.07 0-2.86zM5.41 20L4 18.59l7.72-7.72 1.47 1.35L5.41 20z\"/>\n",
              "  </svg>\n",
              "      </button>\n",
              "      \n",
              "  <style>\n",
              "    .colab-df-container {\n",
              "      display:flex;\n",
              "      flex-wrap:wrap;\n",
              "      gap: 12px;\n",
              "    }\n",
              "\n",
              "    .colab-df-convert {\n",
              "      background-color: #E8F0FE;\n",
              "      border: none;\n",
              "      border-radius: 50%;\n",
              "      cursor: pointer;\n",
              "      display: none;\n",
              "      fill: #1967D2;\n",
              "      height: 32px;\n",
              "      padding: 0 0 0 0;\n",
              "      width: 32px;\n",
              "    }\n",
              "\n",
              "    .colab-df-convert:hover {\n",
              "      background-color: #E2EBFA;\n",
              "      box-shadow: 0px 1px 2px rgba(60, 64, 67, 0.3), 0px 1px 3px 1px rgba(60, 64, 67, 0.15);\n",
              "      fill: #174EA6;\n",
              "    }\n",
              "\n",
              "    [theme=dark] .colab-df-convert {\n",
              "      background-color: #3B4455;\n",
              "      fill: #D2E3FC;\n",
              "    }\n",
              "\n",
              "    [theme=dark] .colab-df-convert:hover {\n",
              "      background-color: #434B5C;\n",
              "      box-shadow: 0px 1px 3px 1px rgba(0, 0, 0, 0.15);\n",
              "      filter: drop-shadow(0px 1px 2px rgba(0, 0, 0, 0.3));\n",
              "      fill: #FFFFFF;\n",
              "    }\n",
              "  </style>\n",
              "\n",
              "      <script>\n",
              "        const buttonEl =\n",
              "          document.querySelector('#df-562be2e7-12f7-4d47-9ede-3f174fa0981d button.colab-df-convert');\n",
              "        buttonEl.style.display =\n",
              "          google.colab.kernel.accessAllowed ? 'block' : 'none';\n",
              "\n",
              "        async function convertToInteractive(key) {\n",
              "          const element = document.querySelector('#df-562be2e7-12f7-4d47-9ede-3f174fa0981d');\n",
              "          const dataTable =\n",
              "            await google.colab.kernel.invokeFunction('convertToInteractive',\n",
              "                                                     [key], {});\n",
              "          if (!dataTable) return;\n",
              "\n",
              "          const docLinkHtml = 'Like what you see? Visit the ' +\n",
              "            '<a target=\"_blank\" href=https://colab.research.google.com/notebooks/data_table.ipynb>data table notebook</a>'\n",
              "            + ' to learn more about interactive tables.';\n",
              "          element.innerHTML = '';\n",
              "          dataTable['output_type'] = 'display_data';\n",
              "          await google.colab.output.renderOutput(dataTable, element);\n",
              "          const docLink = document.createElement('div');\n",
              "          docLink.innerHTML = docLinkHtml;\n",
              "          element.appendChild(docLink);\n",
              "        }\n",
              "      </script>\n",
              "    </div>\n",
              "  </div>\n",
              "  "
            ],
            "text/plain": [
              "    workclass      education       marital-status          occupation  \\\n",
              "0     Private           11th        Never-married   Machine-op-inspct   \n",
              "1     Private        HS-grad   Married-civ-spouse     Farming-fishing   \n",
              "2   Local-gov     Assoc-acdm   Married-civ-spouse     Protective-serv   \n",
              "3     Private   Some-college   Married-civ-spouse   Machine-op-inspct   \n",
              "4           ?   Some-college        Never-married                   ?   \n",
              "\n",
              "  relationship    race      sex  native-country  \n",
              "0    Own-child   Black     Male   United-States  \n",
              "1      Husband   White     Male   United-States  \n",
              "2      Husband   White     Male   United-States  \n",
              "3      Husband   Black     Male   United-States  \n",
              "4    Own-child   White   Female   United-States  "
            ]
          },
          "metadata": {},
          "execution_count": 5
        }
      ],
      "source": [
        "data_categorical = data[categorical_columns]\n",
        "data_categorical.head()"
      ],
      "id": "SgE3Lwej8jBL"
    },
    {
      "cell_type": "code",
      "execution_count": 6,
      "metadata": {
        "id": "LLfMk3Fn8jBL",
        "colab": {
          "base_uri": "https://localhost:8080/"
        },
        "outputId": "1a1b645d-305b-414b-8ea5-e12bcd88a69c"
      },
      "outputs": [
        {
          "output_type": "stream",
          "name": "stdout",
          "text": [
            "The dataset is composed of 8 features\n"
          ]
        }
      ],
      "source": [
        "print(f\"The dataset is composed of {data_categorical.shape[1]} features\") # number of columns"
      ],
      "id": "LLfMk3Fn8jBL"
    },
    {
      "cell_type": "markdown",
      "metadata": {
        "id": "cekGXORK8jBM"
      },
      "source": [
        "In the remainder of this section, we will present different strategies to\n",
        "encode categorical data into numerical data which can be used by a\n",
        "machine-learning algorithm."
      ],
      "id": "cekGXORK8jBM"
    },
    {
      "cell_type": "markdown",
      "metadata": {
        "id": "NJZU-w5O8jBN"
      },
      "source": [
        "## Strategies to encode categories\n",
        "\n",
        "### Encoding ordinal categories\n",
        "\n",
        "The most intuitive strategy is to encode each category with a different\n",
        "number. The `OrdinalEncoder` will transform the data in such manner.\n",
        "We will start by encoding a single column to understand how the encoding\n",
        "works."
      ],
      "id": "NJZU-w5O8jBN"
    },
    {
      "cell_type": "code",
      "execution_count": null,
      "metadata": {
        "id": "bb4nj_SH8jBN"
      },
      "outputs": [],
      "source": [
        "from sklearn.preprocessing import OrdinalEncoder\n",
        "\n",
        "education_column = data_categorical[[\"education\"]]\n",
        "\n",
        "encoder = OrdinalEncoder()\n",
        "education_encoded = encoder.fit_transform(education_column)\n",
        "education_encoded"
      ],
      "id": "bb4nj_SH8jBN"
    },
    {
      "cell_type": "markdown",
      "source": [
        "difference between data_categorical['education'] and data_categorical[['education']]\n",
        "\n",
        "* data_categorical['education'] - Series\n",
        "\n",
        "* data_categorical[['education']] - DataFrame"
      ],
      "metadata": {
        "id": "VMC-6RKqLYz9"
      },
      "id": "VMC-6RKqLYz9"
    },
    {
      "cell_type": "code",
      "source": [
        "print(type(data_categorical['education']))\n",
        "data_categorical['education'].head()"
      ],
      "metadata": {
        "colab": {
          "base_uri": "https://localhost:8080/"
        },
        "id": "fwO3JOP9LI5J",
        "outputId": "72159dd1-bf85-4554-e205-24752917f8fa"
      },
      "id": "fwO3JOP9LI5J",
      "execution_count": null,
      "outputs": [
        {
          "output_type": "stream",
          "name": "stdout",
          "text": [
            "<class 'pandas.core.series.Series'>\n"
          ]
        },
        {
          "output_type": "execute_result",
          "data": {
            "text/plain": [
              "0             11th\n",
              "1          HS-grad\n",
              "2       Assoc-acdm\n",
              "3     Some-college\n",
              "4     Some-college\n",
              "Name: education, dtype: object"
            ]
          },
          "metadata": {},
          "execution_count": 42
        }
      ]
    },
    {
      "cell_type": "code",
      "source": [
        "print(type(data_categorical[['education']]))\n",
        "data_categorical[['education']].head()"
      ],
      "metadata": {
        "colab": {
          "base_uri": "https://localhost:8080/",
          "height": 223
        },
        "id": "oOWQHi9iLQ71",
        "outputId": "c5448338-690e-441d-81df-5c5299869e11"
      },
      "id": "oOWQHi9iLQ71",
      "execution_count": null,
      "outputs": [
        {
          "output_type": "stream",
          "name": "stdout",
          "text": [
            "<class 'pandas.core.frame.DataFrame'>\n"
          ]
        },
        {
          "output_type": "execute_result",
          "data": {
            "text/html": [
              "\n",
              "  <div id=\"df-d4f3ea58-de84-40bd-8fad-83fe54b8f87c\">\n",
              "    <div class=\"colab-df-container\">\n",
              "      <div>\n",
              "<style scoped>\n",
              "    .dataframe tbody tr th:only-of-type {\n",
              "        vertical-align: middle;\n",
              "    }\n",
              "\n",
              "    .dataframe tbody tr th {\n",
              "        vertical-align: top;\n",
              "    }\n",
              "\n",
              "    .dataframe thead th {\n",
              "        text-align: right;\n",
              "    }\n",
              "</style>\n",
              "<table border=\"1\" class=\"dataframe\">\n",
              "  <thead>\n",
              "    <tr style=\"text-align: right;\">\n",
              "      <th></th>\n",
              "      <th>education</th>\n",
              "    </tr>\n",
              "  </thead>\n",
              "  <tbody>\n",
              "    <tr>\n",
              "      <th>0</th>\n",
              "      <td>11th</td>\n",
              "    </tr>\n",
              "    <tr>\n",
              "      <th>1</th>\n",
              "      <td>HS-grad</td>\n",
              "    </tr>\n",
              "    <tr>\n",
              "      <th>2</th>\n",
              "      <td>Assoc-acdm</td>\n",
              "    </tr>\n",
              "    <tr>\n",
              "      <th>3</th>\n",
              "      <td>Some-college</td>\n",
              "    </tr>\n",
              "    <tr>\n",
              "      <th>4</th>\n",
              "      <td>Some-college</td>\n",
              "    </tr>\n",
              "  </tbody>\n",
              "</table>\n",
              "</div>\n",
              "      <button class=\"colab-df-convert\" onclick=\"convertToInteractive('df-d4f3ea58-de84-40bd-8fad-83fe54b8f87c')\"\n",
              "              title=\"Convert this dataframe to an interactive table.\"\n",
              "              style=\"display:none;\">\n",
              "        \n",
              "  <svg xmlns=\"http://www.w3.org/2000/svg\" height=\"24px\"viewBox=\"0 0 24 24\"\n",
              "       width=\"24px\">\n",
              "    <path d=\"M0 0h24v24H0V0z\" fill=\"none\"/>\n",
              "    <path d=\"M18.56 5.44l.94 2.06.94-2.06 2.06-.94-2.06-.94-.94-2.06-.94 2.06-2.06.94zm-11 1L8.5 8.5l.94-2.06 2.06-.94-2.06-.94L8.5 2.5l-.94 2.06-2.06.94zm10 10l.94 2.06.94-2.06 2.06-.94-2.06-.94-.94-2.06-.94 2.06-2.06.94z\"/><path d=\"M17.41 7.96l-1.37-1.37c-.4-.4-.92-.59-1.43-.59-.52 0-1.04.2-1.43.59L10.3 9.45l-7.72 7.72c-.78.78-.78 2.05 0 2.83L4 21.41c.39.39.9.59 1.41.59.51 0 1.02-.2 1.41-.59l7.78-7.78 2.81-2.81c.8-.78.8-2.07 0-2.86zM5.41 20L4 18.59l7.72-7.72 1.47 1.35L5.41 20z\"/>\n",
              "  </svg>\n",
              "      </button>\n",
              "      \n",
              "  <style>\n",
              "    .colab-df-container {\n",
              "      display:flex;\n",
              "      flex-wrap:wrap;\n",
              "      gap: 12px;\n",
              "    }\n",
              "\n",
              "    .colab-df-convert {\n",
              "      background-color: #E8F0FE;\n",
              "      border: none;\n",
              "      border-radius: 50%;\n",
              "      cursor: pointer;\n",
              "      display: none;\n",
              "      fill: #1967D2;\n",
              "      height: 32px;\n",
              "      padding: 0 0 0 0;\n",
              "      width: 32px;\n",
              "    }\n",
              "\n",
              "    .colab-df-convert:hover {\n",
              "      background-color: #E2EBFA;\n",
              "      box-shadow: 0px 1px 2px rgba(60, 64, 67, 0.3), 0px 1px 3px 1px rgba(60, 64, 67, 0.15);\n",
              "      fill: #174EA6;\n",
              "    }\n",
              "\n",
              "    [theme=dark] .colab-df-convert {\n",
              "      background-color: #3B4455;\n",
              "      fill: #D2E3FC;\n",
              "    }\n",
              "\n",
              "    [theme=dark] .colab-df-convert:hover {\n",
              "      background-color: #434B5C;\n",
              "      box-shadow: 0px 1px 3px 1px rgba(0, 0, 0, 0.15);\n",
              "      filter: drop-shadow(0px 1px 2px rgba(0, 0, 0, 0.3));\n",
              "      fill: #FFFFFF;\n",
              "    }\n",
              "  </style>\n",
              "\n",
              "      <script>\n",
              "        const buttonEl =\n",
              "          document.querySelector('#df-d4f3ea58-de84-40bd-8fad-83fe54b8f87c button.colab-df-convert');\n",
              "        buttonEl.style.display =\n",
              "          google.colab.kernel.accessAllowed ? 'block' : 'none';\n",
              "\n",
              "        async function convertToInteractive(key) {\n",
              "          const element = document.querySelector('#df-d4f3ea58-de84-40bd-8fad-83fe54b8f87c');\n",
              "          const dataTable =\n",
              "            await google.colab.kernel.invokeFunction('convertToInteractive',\n",
              "                                                     [key], {});\n",
              "          if (!dataTable) return;\n",
              "\n",
              "          const docLinkHtml = 'Like what you see? Visit the ' +\n",
              "            '<a target=\"_blank\" href=https://colab.research.google.com/notebooks/data_table.ipynb>data table notebook</a>'\n",
              "            + ' to learn more about interactive tables.';\n",
              "          element.innerHTML = '';\n",
              "          dataTable['output_type'] = 'display_data';\n",
              "          await google.colab.output.renderOutput(dataTable, element);\n",
              "          const docLink = document.createElement('div');\n",
              "          docLink.innerHTML = docLinkHtml;\n",
              "          element.appendChild(docLink);\n",
              "        }\n",
              "      </script>\n",
              "    </div>\n",
              "  </div>\n",
              "  "
            ],
            "text/plain": [
              "       education\n",
              "0           11th\n",
              "1        HS-grad\n",
              "2     Assoc-acdm\n",
              "3   Some-college\n",
              "4   Some-college"
            ]
          },
          "metadata": {},
          "execution_count": 41
        }
      ]
    },
    {
      "cell_type": "code",
      "source": [
        "from sklearn.preprocessing import OrdinalEncoder\n",
        "\n",
        "# education_column = data_categorical['education'] # 1D array - error\n",
        "education_column = data_categorical[['education']] # 2D array\n",
        "\n",
        "encoder = OrdinalEncoder()\n",
        "education_encoded = encoder.fit_transform(education_column) # 2D array required\n",
        "education_encoded"
      ],
      "metadata": {
        "colab": {
          "base_uri": "https://localhost:8080/"
        },
        "id": "A0n8hSPYKuAn",
        "outputId": "41669c81-212f-4bb2-f9fe-5e9d8c93ea78"
      },
      "id": "A0n8hSPYKuAn",
      "execution_count": 7,
      "outputs": [
        {
          "output_type": "execute_result",
          "data": {
            "text/plain": [
              "array([[ 1.],\n",
              "       [11.],\n",
              "       [ 7.],\n",
              "       ...,\n",
              "       [11.],\n",
              "       [11.],\n",
              "       [11.]])"
            ]
          },
          "metadata": {},
          "execution_count": 7
        }
      ]
    },
    {
      "cell_type": "markdown",
      "metadata": {
        "id": "DfA6MjXb8jBO"
      },
      "source": [
        "We see that each category in `\"education\"` has been replaced by a numeric\n",
        "value. We could check the mapping between the categories and the numerical\n",
        "values by checking the fitted attribute `categories_`."
      ],
      "id": "DfA6MjXb8jBO"
    },
    {
      "cell_type": "code",
      "execution_count": 8,
      "metadata": {
        "id": "FjY1opJc8jBO",
        "colab": {
          "base_uri": "https://localhost:8080/"
        },
        "outputId": "076af0b3-89d9-4acd-fa2d-3dfba6b725cf"
      },
      "outputs": [
        {
          "output_type": "execute_result",
          "data": {
            "text/plain": [
              "[array([' 10th', ' 11th', ' 12th', ' 1st-4th', ' 5th-6th', ' 7th-8th',\n",
              "        ' 9th', ' Assoc-acdm', ' Assoc-voc', ' Bachelors', ' Doctorate',\n",
              "        ' HS-grad', ' Masters', ' Preschool', ' Prof-school',\n",
              "        ' Some-college'], dtype=object)]"
            ]
          },
          "metadata": {},
          "execution_count": 8
        }
      ],
      "source": [
        "encoder.categories_"
      ],
      "id": "FjY1opJc8jBO"
    },
    {
      "cell_type": "markdown",
      "metadata": {
        "id": "qc1nIJ0l8jBP"
      },
      "source": [
        "Now, we can check the encoding applied on all categorical features."
      ],
      "id": "qc1nIJ0l8jBP"
    },
    {
      "cell_type": "code",
      "source": [
        "data_categorical.nunique()"
      ],
      "metadata": {
        "colab": {
          "base_uri": "https://localhost:8080/"
        },
        "id": "BL9jVYtOO4_N",
        "outputId": "5571595f-5535-4116-f8a1-b31d27a2c135"
      },
      "id": "BL9jVYtOO4_N",
      "execution_count": 9,
      "outputs": [
        {
          "output_type": "execute_result",
          "data": {
            "text/plain": [
              "workclass          9\n",
              "education         16\n",
              "marital-status     7\n",
              "occupation        15\n",
              "relationship       6\n",
              "race               5\n",
              "sex                2\n",
              "native-country    42\n",
              "dtype: int64"
            ]
          },
          "metadata": {},
          "execution_count": 9
        }
      ]
    },
    {
      "cell_type": "code",
      "execution_count": 11,
      "metadata": {
        "id": "thst50gP8jBP",
        "colab": {
          "base_uri": "https://localhost:8080/"
        },
        "outputId": "c2280db4-dfae-4702-844e-3025872055ab"
      },
      "outputs": [
        {
          "output_type": "execute_result",
          "data": {
            "text/plain": [
              "array([[ 4.,  1.,  4.,  7.,  3.,  2.,  1., 39.],\n",
              "       [ 4., 11.,  2.,  5.,  0.,  4.,  1., 39.],\n",
              "       [ 2.,  7.,  2., 11.,  0.,  4.,  1., 39.],\n",
              "       [ 4., 15.,  2.,  7.,  0.,  2.,  1., 39.],\n",
              "       [ 0., 15.,  4.,  0.,  3.,  4.,  0., 39.]])"
            ]
          },
          "metadata": {},
          "execution_count": 11
        }
      ],
      "source": [
        "data_encoded = encoder.fit_transform(data_categorical)\n",
        "data_encoded[:5]"
      ],
      "id": "thst50gP8jBP"
    },
    {
      "cell_type": "code",
      "source": [
        "type(data_encoded) # np ndarray\n",
        "data_encoded.shape"
      ],
      "metadata": {
        "colab": {
          "base_uri": "https://localhost:8080/"
        },
        "id": "NVpNo-W5udBW",
        "outputId": "90ef1019-0d13-4908-8c9b-e2b5210f6bac"
      },
      "id": "NVpNo-W5udBW",
      "execution_count": 13,
      "outputs": [
        {
          "output_type": "execute_result",
          "data": {
            "text/plain": [
              "(48842, 8)"
            ]
          },
          "metadata": {},
          "execution_count": 13
        }
      ]
    },
    {
      "cell_type": "code",
      "execution_count": 14,
      "metadata": {
        "id": "jEtGgCyd8jBP",
        "colab": {
          "base_uri": "https://localhost:8080/"
        },
        "outputId": "959ebbbd-bbaf-4777-d0a7-d93f4312d8d5"
      },
      "outputs": [
        {
          "output_type": "stream",
          "name": "stdout",
          "text": [
            "The dataset encoded contains 8 features\n"
          ]
        }
      ],
      "source": [
        "print(\n",
        "    f\"The dataset encoded contains {data_encoded.shape[1]} features\")"
      ],
      "id": "jEtGgCyd8jBP"
    },
    {
      "cell_type": "markdown",
      "metadata": {
        "id": "uRyq4Z9U8jBQ"
      },
      "source": [
        "We see that the categories have been encoded for each feature (column)\n",
        "independently. We also note that the number of features before and after the\n",
        "encoding is the same.\n",
        "\n",
        "However, be careful when applying this encoding strategy:\n",
        "using this integer representation leads downstream predictive models\n",
        "to assume that the values are ordered (0 < 1 < 2 < 3... for instance).\n",
        "\n",
        "By default, `OrdinalEncoder` uses a lexicographical strategy to map string\n",
        "category labels to integers. This strategy is arbitrary and often\n",
        "meaningless. For instance, suppose the dataset has a categorical variable\n",
        "named `\"size\"` with categories such as \"S\", \"M\", \"L\", \"XL\". We would like the\n",
        "integer representation to respect the meaning of the sizes by mapping them to\n",
        "increasing integers such as `0, 1, 2, 3`.\n",
        "However, the lexicographical strategy used by default would map the labels\n",
        "\"S\", \"M\", \"L\", \"XL\" to 2, 1, 0, 3, by following the alphabetical order.\n",
        "\n",
        "The `OrdinalEncoder` class accepts a `categories` constructor argument to\n",
        "pass categories in the expected ordering explicitly. You can find more\n",
        "information in the\n",
        "[scikit-learn documentation](https://scikit-learn.org/stable/modules/preprocessing.html#encoding-categorical-features)\n",
        "if needed.\n",
        "\n",
        "If a categorical variable does not carry any meaningful order information,\n",
        "then this encoding might be misleading to downstream. statistical models and\n",
        "you might consider using one-hot encoding instead (see below).\n",
        "\n",
        "### Encoding nominal categories (without assuming any order)\n",
        "\n",
        "`OneHotEncoder` is an alternative encoder that prevents the downstream models to make a false assumption about the ordering of categories. For a given feature, it will create as many new columns as there are possible categories. For a given sample, the value of the column corresponding to the category will be set to `1` while all the columns of the other categories will be set to `0`.\n",
        "\n",
        "We will start by encoding a single feature (e.g. \"education\"`) to illustrate how the encoding works."
      ],
      "id": "uRyq4Z9U8jBQ"
    },
    {
      "cell_type": "code",
      "execution_count": 31,
      "metadata": {
        "id": "LCV0PwDI8jBQ",
        "colab": {
          "base_uri": "https://localhost:8080/"
        },
        "outputId": "829befb8-243f-42f6-8f2f-1b00cdc36f12"
      },
      "outputs": [
        {
          "output_type": "execute_result",
          "data": {
            "text/plain": [
              "<48842x16 sparse matrix of type '<class 'numpy.float64'>'\n",
              "\twith 48842 stored elements in Compressed Sparse Row format>"
            ]
          },
          "metadata": {},
          "execution_count": 31
        }
      ],
      "source": [
        "from sklearn.preprocessing import OneHotEncoder\n",
        "\n",
        "encoder = OneHotEncoder()\n",
        "education_encoded = encoder.fit_transform(education_column)\n",
        "education_encoded"
      ],
      "id": "LCV0PwDI8jBQ"
    },
    {
      "cell_type": "code",
      "source": [
        "print(education_encoded.shape)\n",
        "type(education_encoded)"
      ],
      "metadata": {
        "colab": {
          "base_uri": "https://localhost:8080/"
        },
        "id": "wpXjneHB13yV",
        "outputId": "34f1b379-2af9-479e-ef24-4c998a6365ea"
      },
      "id": "wpXjneHB13yV",
      "execution_count": 33,
      "outputs": [
        {
          "output_type": "stream",
          "name": "stdout",
          "text": [
            "(48842, 16)\n"
          ]
        },
        {
          "output_type": "execute_result",
          "data": {
            "text/plain": [
              "scipy.sparse.csr.csr_matrix"
            ]
          },
          "metadata": {},
          "execution_count": 33
        }
      ]
    },
    {
      "cell_type": "code",
      "source": [
        "from sklearn.preprocessing import OneHotEncoder\n",
        "\n",
        "encoder = OneHotEncoder(sparse = False)\n",
        "education_encoded = encoder.fit_transform(education_column)\n",
        "education_encoded"
      ],
      "metadata": {
        "colab": {
          "base_uri": "https://localhost:8080/"
        },
        "id": "fuQBbmSr10RT",
        "outputId": "a884f773-e9c7-4a8c-d584-951b37660569"
      },
      "id": "fuQBbmSr10RT",
      "execution_count": 34,
      "outputs": [
        {
          "output_type": "execute_result",
          "data": {
            "text/plain": [
              "array([[0., 1., 0., ..., 0., 0., 0.],\n",
              "       [0., 0., 0., ..., 0., 0., 0.],\n",
              "       [0., 0., 0., ..., 0., 0., 0.],\n",
              "       ...,\n",
              "       [0., 0., 0., ..., 0., 0., 0.],\n",
              "       [0., 0., 0., ..., 0., 0., 0.],\n",
              "       [0., 0., 0., ..., 0., 0., 0.]])"
            ]
          },
          "metadata": {},
          "execution_count": 34
        }
      ]
    },
    {
      "cell_type": "code",
      "source": [
        "data['education'].nunique()"
      ],
      "metadata": {
        "colab": {
          "base_uri": "https://localhost:8080/"
        },
        "id": "X66UZ6aCy1cb",
        "outputId": "ab9ede44-afcd-4cf5-dd38-4bec9ac86f89"
      },
      "id": "X66UZ6aCy1cb",
      "execution_count": 20,
      "outputs": [
        {
          "output_type": "execute_result",
          "data": {
            "text/plain": [
              "16"
            ]
          },
          "metadata": {},
          "execution_count": 20
        }
      ]
    },
    {
      "cell_type": "code",
      "source": [
        "print(education_encoded.shape)\n",
        "\n",
        "pd.DataFrame(education_encoded) \n",
        "\n",
        "# Each column from 0 to 15 represents each unique value in the edcuation feature.\n",
        "# There is 1.0 where the first row and the column 1 meet. It means the first row has the column 1 value.\n",
        "# And the the column 1 is 11th among the categories of the education column."
      ],
      "metadata": {
        "colab": {
          "base_uri": "https://localhost:8080/",
          "height": 441
        },
        "id": "hG2slRAeymBh",
        "outputId": "3b846223-c089-48a3-a546-86e1d396a254"
      },
      "id": "hG2slRAeymBh",
      "execution_count": 29,
      "outputs": [
        {
          "output_type": "stream",
          "name": "stdout",
          "text": [
            "(48842, 16)\n"
          ]
        },
        {
          "output_type": "execute_result",
          "data": {
            "text/html": [
              "\n",
              "  <div id=\"df-05212c04-d765-4246-b8f8-9954b38a742e\">\n",
              "    <div class=\"colab-df-container\">\n",
              "      <div>\n",
              "<style scoped>\n",
              "    .dataframe tbody tr th:only-of-type {\n",
              "        vertical-align: middle;\n",
              "    }\n",
              "\n",
              "    .dataframe tbody tr th {\n",
              "        vertical-align: top;\n",
              "    }\n",
              "\n",
              "    .dataframe thead th {\n",
              "        text-align: right;\n",
              "    }\n",
              "</style>\n",
              "<table border=\"1\" class=\"dataframe\">\n",
              "  <thead>\n",
              "    <tr style=\"text-align: right;\">\n",
              "      <th></th>\n",
              "      <th>0</th>\n",
              "      <th>1</th>\n",
              "      <th>2</th>\n",
              "      <th>3</th>\n",
              "      <th>4</th>\n",
              "      <th>5</th>\n",
              "      <th>6</th>\n",
              "      <th>7</th>\n",
              "      <th>8</th>\n",
              "      <th>9</th>\n",
              "      <th>10</th>\n",
              "      <th>11</th>\n",
              "      <th>12</th>\n",
              "      <th>13</th>\n",
              "      <th>14</th>\n",
              "      <th>15</th>\n",
              "    </tr>\n",
              "  </thead>\n",
              "  <tbody>\n",
              "    <tr>\n",
              "      <th>0</th>\n",
              "      <td>0.0</td>\n",
              "      <td>1.0</td>\n",
              "      <td>0.0</td>\n",
              "      <td>0.0</td>\n",
              "      <td>0.0</td>\n",
              "      <td>0.0</td>\n",
              "      <td>0.0</td>\n",
              "      <td>0.0</td>\n",
              "      <td>0.0</td>\n",
              "      <td>0.0</td>\n",
              "      <td>0.0</td>\n",
              "      <td>0.0</td>\n",
              "      <td>0.0</td>\n",
              "      <td>0.0</td>\n",
              "      <td>0.0</td>\n",
              "      <td>0.0</td>\n",
              "    </tr>\n",
              "    <tr>\n",
              "      <th>1</th>\n",
              "      <td>0.0</td>\n",
              "      <td>0.0</td>\n",
              "      <td>0.0</td>\n",
              "      <td>0.0</td>\n",
              "      <td>0.0</td>\n",
              "      <td>0.0</td>\n",
              "      <td>0.0</td>\n",
              "      <td>0.0</td>\n",
              "      <td>0.0</td>\n",
              "      <td>0.0</td>\n",
              "      <td>0.0</td>\n",
              "      <td>1.0</td>\n",
              "      <td>0.0</td>\n",
              "      <td>0.0</td>\n",
              "      <td>0.0</td>\n",
              "      <td>0.0</td>\n",
              "    </tr>\n",
              "    <tr>\n",
              "      <th>2</th>\n",
              "      <td>0.0</td>\n",
              "      <td>0.0</td>\n",
              "      <td>0.0</td>\n",
              "      <td>0.0</td>\n",
              "      <td>0.0</td>\n",
              "      <td>0.0</td>\n",
              "      <td>0.0</td>\n",
              "      <td>1.0</td>\n",
              "      <td>0.0</td>\n",
              "      <td>0.0</td>\n",
              "      <td>0.0</td>\n",
              "      <td>0.0</td>\n",
              "      <td>0.0</td>\n",
              "      <td>0.0</td>\n",
              "      <td>0.0</td>\n",
              "      <td>0.0</td>\n",
              "    </tr>\n",
              "    <tr>\n",
              "      <th>3</th>\n",
              "      <td>0.0</td>\n",
              "      <td>0.0</td>\n",
              "      <td>0.0</td>\n",
              "      <td>0.0</td>\n",
              "      <td>0.0</td>\n",
              "      <td>0.0</td>\n",
              "      <td>0.0</td>\n",
              "      <td>0.0</td>\n",
              "      <td>0.0</td>\n",
              "      <td>0.0</td>\n",
              "      <td>0.0</td>\n",
              "      <td>0.0</td>\n",
              "      <td>0.0</td>\n",
              "      <td>0.0</td>\n",
              "      <td>0.0</td>\n",
              "      <td>1.0</td>\n",
              "    </tr>\n",
              "    <tr>\n",
              "      <th>4</th>\n",
              "      <td>0.0</td>\n",
              "      <td>0.0</td>\n",
              "      <td>0.0</td>\n",
              "      <td>0.0</td>\n",
              "      <td>0.0</td>\n",
              "      <td>0.0</td>\n",
              "      <td>0.0</td>\n",
              "      <td>0.0</td>\n",
              "      <td>0.0</td>\n",
              "      <td>0.0</td>\n",
              "      <td>0.0</td>\n",
              "      <td>0.0</td>\n",
              "      <td>0.0</td>\n",
              "      <td>0.0</td>\n",
              "      <td>0.0</td>\n",
              "      <td>1.0</td>\n",
              "    </tr>\n",
              "    <tr>\n",
              "      <th>...</th>\n",
              "      <td>...</td>\n",
              "      <td>...</td>\n",
              "      <td>...</td>\n",
              "      <td>...</td>\n",
              "      <td>...</td>\n",
              "      <td>...</td>\n",
              "      <td>...</td>\n",
              "      <td>...</td>\n",
              "      <td>...</td>\n",
              "      <td>...</td>\n",
              "      <td>...</td>\n",
              "      <td>...</td>\n",
              "      <td>...</td>\n",
              "      <td>...</td>\n",
              "      <td>...</td>\n",
              "      <td>...</td>\n",
              "    </tr>\n",
              "    <tr>\n",
              "      <th>48837</th>\n",
              "      <td>0.0</td>\n",
              "      <td>0.0</td>\n",
              "      <td>0.0</td>\n",
              "      <td>0.0</td>\n",
              "      <td>0.0</td>\n",
              "      <td>0.0</td>\n",
              "      <td>0.0</td>\n",
              "      <td>1.0</td>\n",
              "      <td>0.0</td>\n",
              "      <td>0.0</td>\n",
              "      <td>0.0</td>\n",
              "      <td>0.0</td>\n",
              "      <td>0.0</td>\n",
              "      <td>0.0</td>\n",
              "      <td>0.0</td>\n",
              "      <td>0.0</td>\n",
              "    </tr>\n",
              "    <tr>\n",
              "      <th>48838</th>\n",
              "      <td>0.0</td>\n",
              "      <td>0.0</td>\n",
              "      <td>0.0</td>\n",
              "      <td>0.0</td>\n",
              "      <td>0.0</td>\n",
              "      <td>0.0</td>\n",
              "      <td>0.0</td>\n",
              "      <td>0.0</td>\n",
              "      <td>0.0</td>\n",
              "      <td>0.0</td>\n",
              "      <td>0.0</td>\n",
              "      <td>1.0</td>\n",
              "      <td>0.0</td>\n",
              "      <td>0.0</td>\n",
              "      <td>0.0</td>\n",
              "      <td>0.0</td>\n",
              "    </tr>\n",
              "    <tr>\n",
              "      <th>48839</th>\n",
              "      <td>0.0</td>\n",
              "      <td>0.0</td>\n",
              "      <td>0.0</td>\n",
              "      <td>0.0</td>\n",
              "      <td>0.0</td>\n",
              "      <td>0.0</td>\n",
              "      <td>0.0</td>\n",
              "      <td>0.0</td>\n",
              "      <td>0.0</td>\n",
              "      <td>0.0</td>\n",
              "      <td>0.0</td>\n",
              "      <td>1.0</td>\n",
              "      <td>0.0</td>\n",
              "      <td>0.0</td>\n",
              "      <td>0.0</td>\n",
              "      <td>0.0</td>\n",
              "    </tr>\n",
              "    <tr>\n",
              "      <th>48840</th>\n",
              "      <td>0.0</td>\n",
              "      <td>0.0</td>\n",
              "      <td>0.0</td>\n",
              "      <td>0.0</td>\n",
              "      <td>0.0</td>\n",
              "      <td>0.0</td>\n",
              "      <td>0.0</td>\n",
              "      <td>0.0</td>\n",
              "      <td>0.0</td>\n",
              "      <td>0.0</td>\n",
              "      <td>0.0</td>\n",
              "      <td>1.0</td>\n",
              "      <td>0.0</td>\n",
              "      <td>0.0</td>\n",
              "      <td>0.0</td>\n",
              "      <td>0.0</td>\n",
              "    </tr>\n",
              "    <tr>\n",
              "      <th>48841</th>\n",
              "      <td>0.0</td>\n",
              "      <td>0.0</td>\n",
              "      <td>0.0</td>\n",
              "      <td>0.0</td>\n",
              "      <td>0.0</td>\n",
              "      <td>0.0</td>\n",
              "      <td>0.0</td>\n",
              "      <td>0.0</td>\n",
              "      <td>0.0</td>\n",
              "      <td>0.0</td>\n",
              "      <td>0.0</td>\n",
              "      <td>1.0</td>\n",
              "      <td>0.0</td>\n",
              "      <td>0.0</td>\n",
              "      <td>0.0</td>\n",
              "      <td>0.0</td>\n",
              "    </tr>\n",
              "  </tbody>\n",
              "</table>\n",
              "<p>48842 rows × 16 columns</p>\n",
              "</div>\n",
              "      <button class=\"colab-df-convert\" onclick=\"convertToInteractive('df-05212c04-d765-4246-b8f8-9954b38a742e')\"\n",
              "              title=\"Convert this dataframe to an interactive table.\"\n",
              "              style=\"display:none;\">\n",
              "        \n",
              "  <svg xmlns=\"http://www.w3.org/2000/svg\" height=\"24px\"viewBox=\"0 0 24 24\"\n",
              "       width=\"24px\">\n",
              "    <path d=\"M0 0h24v24H0V0z\" fill=\"none\"/>\n",
              "    <path d=\"M18.56 5.44l.94 2.06.94-2.06 2.06-.94-2.06-.94-.94-2.06-.94 2.06-2.06.94zm-11 1L8.5 8.5l.94-2.06 2.06-.94-2.06-.94L8.5 2.5l-.94 2.06-2.06.94zm10 10l.94 2.06.94-2.06 2.06-.94-2.06-.94-.94-2.06-.94 2.06-2.06.94z\"/><path d=\"M17.41 7.96l-1.37-1.37c-.4-.4-.92-.59-1.43-.59-.52 0-1.04.2-1.43.59L10.3 9.45l-7.72 7.72c-.78.78-.78 2.05 0 2.83L4 21.41c.39.39.9.59 1.41.59.51 0 1.02-.2 1.41-.59l7.78-7.78 2.81-2.81c.8-.78.8-2.07 0-2.86zM5.41 20L4 18.59l7.72-7.72 1.47 1.35L5.41 20z\"/>\n",
              "  </svg>\n",
              "      </button>\n",
              "      \n",
              "  <style>\n",
              "    .colab-df-container {\n",
              "      display:flex;\n",
              "      flex-wrap:wrap;\n",
              "      gap: 12px;\n",
              "    }\n",
              "\n",
              "    .colab-df-convert {\n",
              "      background-color: #E8F0FE;\n",
              "      border: none;\n",
              "      border-radius: 50%;\n",
              "      cursor: pointer;\n",
              "      display: none;\n",
              "      fill: #1967D2;\n",
              "      height: 32px;\n",
              "      padding: 0 0 0 0;\n",
              "      width: 32px;\n",
              "    }\n",
              "\n",
              "    .colab-df-convert:hover {\n",
              "      background-color: #E2EBFA;\n",
              "      box-shadow: 0px 1px 2px rgba(60, 64, 67, 0.3), 0px 1px 3px 1px rgba(60, 64, 67, 0.15);\n",
              "      fill: #174EA6;\n",
              "    }\n",
              "\n",
              "    [theme=dark] .colab-df-convert {\n",
              "      background-color: #3B4455;\n",
              "      fill: #D2E3FC;\n",
              "    }\n",
              "\n",
              "    [theme=dark] .colab-df-convert:hover {\n",
              "      background-color: #434B5C;\n",
              "      box-shadow: 0px 1px 3px 1px rgba(0, 0, 0, 0.15);\n",
              "      filter: drop-shadow(0px 1px 2px rgba(0, 0, 0, 0.3));\n",
              "      fill: #FFFFFF;\n",
              "    }\n",
              "  </style>\n",
              "\n",
              "      <script>\n",
              "        const buttonEl =\n",
              "          document.querySelector('#df-05212c04-d765-4246-b8f8-9954b38a742e button.colab-df-convert');\n",
              "        buttonEl.style.display =\n",
              "          google.colab.kernel.accessAllowed ? 'block' : 'none';\n",
              "\n",
              "        async function convertToInteractive(key) {\n",
              "          const element = document.querySelector('#df-05212c04-d765-4246-b8f8-9954b38a742e');\n",
              "          const dataTable =\n",
              "            await google.colab.kernel.invokeFunction('convertToInteractive',\n",
              "                                                     [key], {});\n",
              "          if (!dataTable) return;\n",
              "\n",
              "          const docLinkHtml = 'Like what you see? Visit the ' +\n",
              "            '<a target=\"_blank\" href=https://colab.research.google.com/notebooks/data_table.ipynb>data table notebook</a>'\n",
              "            + ' to learn more about interactive tables.';\n",
              "          element.innerHTML = '';\n",
              "          dataTable['output_type'] = 'display_data';\n",
              "          await google.colab.output.renderOutput(dataTable, element);\n",
              "          const docLink = document.createElement('div');\n",
              "          docLink.innerHTML = docLinkHtml;\n",
              "          element.appendChild(docLink);\n",
              "        }\n",
              "      </script>\n",
              "    </div>\n",
              "  </div>\n",
              "  "
            ],
            "text/plain": [
              "        0    1    2    3    4    5    6    7    8    9    10   11   12   13  \\\n",
              "0      0.0  1.0  0.0  0.0  0.0  0.0  0.0  0.0  0.0  0.0  0.0  0.0  0.0  0.0   \n",
              "1      0.0  0.0  0.0  0.0  0.0  0.0  0.0  0.0  0.0  0.0  0.0  1.0  0.0  0.0   \n",
              "2      0.0  0.0  0.0  0.0  0.0  0.0  0.0  1.0  0.0  0.0  0.0  0.0  0.0  0.0   \n",
              "3      0.0  0.0  0.0  0.0  0.0  0.0  0.0  0.0  0.0  0.0  0.0  0.0  0.0  0.0   \n",
              "4      0.0  0.0  0.0  0.0  0.0  0.0  0.0  0.0  0.0  0.0  0.0  0.0  0.0  0.0   \n",
              "...    ...  ...  ...  ...  ...  ...  ...  ...  ...  ...  ...  ...  ...  ...   \n",
              "48837  0.0  0.0  0.0  0.0  0.0  0.0  0.0  1.0  0.0  0.0  0.0  0.0  0.0  0.0   \n",
              "48838  0.0  0.0  0.0  0.0  0.0  0.0  0.0  0.0  0.0  0.0  0.0  1.0  0.0  0.0   \n",
              "48839  0.0  0.0  0.0  0.0  0.0  0.0  0.0  0.0  0.0  0.0  0.0  1.0  0.0  0.0   \n",
              "48840  0.0  0.0  0.0  0.0  0.0  0.0  0.0  0.0  0.0  0.0  0.0  1.0  0.0  0.0   \n",
              "48841  0.0  0.0  0.0  0.0  0.0  0.0  0.0  0.0  0.0  0.0  0.0  1.0  0.0  0.0   \n",
              "\n",
              "        14   15  \n",
              "0      0.0  0.0  \n",
              "1      0.0  0.0  \n",
              "2      0.0  0.0  \n",
              "3      0.0  1.0  \n",
              "4      0.0  1.0  \n",
              "...    ...  ...  \n",
              "48837  0.0  0.0  \n",
              "48838  0.0  0.0  \n",
              "48839  0.0  0.0  \n",
              "48840  0.0  0.0  \n",
              "48841  0.0  0.0  \n",
              "\n",
              "[48842 rows x 16 columns]"
            ]
          },
          "metadata": {},
          "execution_count": 29
        }
      ]
    },
    {
      "cell_type": "code",
      "source": [
        "education_column"
      ],
      "metadata": {
        "colab": {
          "base_uri": "https://localhost:8080/",
          "height": 423
        },
        "id": "A93MfDsiyNw8",
        "outputId": "57ed89ba-19a9-41db-ceec-3d4d4acd1ea8"
      },
      "id": "A93MfDsiyNw8",
      "execution_count": 16,
      "outputs": [
        {
          "output_type": "execute_result",
          "data": {
            "text/html": [
              "\n",
              "  <div id=\"df-3c6f5fda-588e-4c6a-be29-3d04f321dd70\">\n",
              "    <div class=\"colab-df-container\">\n",
              "      <div>\n",
              "<style scoped>\n",
              "    .dataframe tbody tr th:only-of-type {\n",
              "        vertical-align: middle;\n",
              "    }\n",
              "\n",
              "    .dataframe tbody tr th {\n",
              "        vertical-align: top;\n",
              "    }\n",
              "\n",
              "    .dataframe thead th {\n",
              "        text-align: right;\n",
              "    }\n",
              "</style>\n",
              "<table border=\"1\" class=\"dataframe\">\n",
              "  <thead>\n",
              "    <tr style=\"text-align: right;\">\n",
              "      <th></th>\n",
              "      <th>education</th>\n",
              "    </tr>\n",
              "  </thead>\n",
              "  <tbody>\n",
              "    <tr>\n",
              "      <th>0</th>\n",
              "      <td>11th</td>\n",
              "    </tr>\n",
              "    <tr>\n",
              "      <th>1</th>\n",
              "      <td>HS-grad</td>\n",
              "    </tr>\n",
              "    <tr>\n",
              "      <th>2</th>\n",
              "      <td>Assoc-acdm</td>\n",
              "    </tr>\n",
              "    <tr>\n",
              "      <th>3</th>\n",
              "      <td>Some-college</td>\n",
              "    </tr>\n",
              "    <tr>\n",
              "      <th>4</th>\n",
              "      <td>Some-college</td>\n",
              "    </tr>\n",
              "    <tr>\n",
              "      <th>...</th>\n",
              "      <td>...</td>\n",
              "    </tr>\n",
              "    <tr>\n",
              "      <th>48837</th>\n",
              "      <td>Assoc-acdm</td>\n",
              "    </tr>\n",
              "    <tr>\n",
              "      <th>48838</th>\n",
              "      <td>HS-grad</td>\n",
              "    </tr>\n",
              "    <tr>\n",
              "      <th>48839</th>\n",
              "      <td>HS-grad</td>\n",
              "    </tr>\n",
              "    <tr>\n",
              "      <th>48840</th>\n",
              "      <td>HS-grad</td>\n",
              "    </tr>\n",
              "    <tr>\n",
              "      <th>48841</th>\n",
              "      <td>HS-grad</td>\n",
              "    </tr>\n",
              "  </tbody>\n",
              "</table>\n",
              "<p>48842 rows × 1 columns</p>\n",
              "</div>\n",
              "      <button class=\"colab-df-convert\" onclick=\"convertToInteractive('df-3c6f5fda-588e-4c6a-be29-3d04f321dd70')\"\n",
              "              title=\"Convert this dataframe to an interactive table.\"\n",
              "              style=\"display:none;\">\n",
              "        \n",
              "  <svg xmlns=\"http://www.w3.org/2000/svg\" height=\"24px\"viewBox=\"0 0 24 24\"\n",
              "       width=\"24px\">\n",
              "    <path d=\"M0 0h24v24H0V0z\" fill=\"none\"/>\n",
              "    <path d=\"M18.56 5.44l.94 2.06.94-2.06 2.06-.94-2.06-.94-.94-2.06-.94 2.06-2.06.94zm-11 1L8.5 8.5l.94-2.06 2.06-.94-2.06-.94L8.5 2.5l-.94 2.06-2.06.94zm10 10l.94 2.06.94-2.06 2.06-.94-2.06-.94-.94-2.06-.94 2.06-2.06.94z\"/><path d=\"M17.41 7.96l-1.37-1.37c-.4-.4-.92-.59-1.43-.59-.52 0-1.04.2-1.43.59L10.3 9.45l-7.72 7.72c-.78.78-.78 2.05 0 2.83L4 21.41c.39.39.9.59 1.41.59.51 0 1.02-.2 1.41-.59l7.78-7.78 2.81-2.81c.8-.78.8-2.07 0-2.86zM5.41 20L4 18.59l7.72-7.72 1.47 1.35L5.41 20z\"/>\n",
              "  </svg>\n",
              "      </button>\n",
              "      \n",
              "  <style>\n",
              "    .colab-df-container {\n",
              "      display:flex;\n",
              "      flex-wrap:wrap;\n",
              "      gap: 12px;\n",
              "    }\n",
              "\n",
              "    .colab-df-convert {\n",
              "      background-color: #E8F0FE;\n",
              "      border: none;\n",
              "      border-radius: 50%;\n",
              "      cursor: pointer;\n",
              "      display: none;\n",
              "      fill: #1967D2;\n",
              "      height: 32px;\n",
              "      padding: 0 0 0 0;\n",
              "      width: 32px;\n",
              "    }\n",
              "\n",
              "    .colab-df-convert:hover {\n",
              "      background-color: #E2EBFA;\n",
              "      box-shadow: 0px 1px 2px rgba(60, 64, 67, 0.3), 0px 1px 3px 1px rgba(60, 64, 67, 0.15);\n",
              "      fill: #174EA6;\n",
              "    }\n",
              "\n",
              "    [theme=dark] .colab-df-convert {\n",
              "      background-color: #3B4455;\n",
              "      fill: #D2E3FC;\n",
              "    }\n",
              "\n",
              "    [theme=dark] .colab-df-convert:hover {\n",
              "      background-color: #434B5C;\n",
              "      box-shadow: 0px 1px 3px 1px rgba(0, 0, 0, 0.15);\n",
              "      filter: drop-shadow(0px 1px 2px rgba(0, 0, 0, 0.3));\n",
              "      fill: #FFFFFF;\n",
              "    }\n",
              "  </style>\n",
              "\n",
              "      <script>\n",
              "        const buttonEl =\n",
              "          document.querySelector('#df-3c6f5fda-588e-4c6a-be29-3d04f321dd70 button.colab-df-convert');\n",
              "        buttonEl.style.display =\n",
              "          google.colab.kernel.accessAllowed ? 'block' : 'none';\n",
              "\n",
              "        async function convertToInteractive(key) {\n",
              "          const element = document.querySelector('#df-3c6f5fda-588e-4c6a-be29-3d04f321dd70');\n",
              "          const dataTable =\n",
              "            await google.colab.kernel.invokeFunction('convertToInteractive',\n",
              "                                                     [key], {});\n",
              "          if (!dataTable) return;\n",
              "\n",
              "          const docLinkHtml = 'Like what you see? Visit the ' +\n",
              "            '<a target=\"_blank\" href=https://colab.research.google.com/notebooks/data_table.ipynb>data table notebook</a>'\n",
              "            + ' to learn more about interactive tables.';\n",
              "          element.innerHTML = '';\n",
              "          dataTable['output_type'] = 'display_data';\n",
              "          await google.colab.output.renderOutput(dataTable, element);\n",
              "          const docLink = document.createElement('div');\n",
              "          docLink.innerHTML = docLinkHtml;\n",
              "          element.appendChild(docLink);\n",
              "        }\n",
              "      </script>\n",
              "    </div>\n",
              "  </div>\n",
              "  "
            ],
            "text/plain": [
              "           education\n",
              "0               11th\n",
              "1            HS-grad\n",
              "2         Assoc-acdm\n",
              "3       Some-college\n",
              "4       Some-college\n",
              "...              ...\n",
              "48837     Assoc-acdm\n",
              "48838        HS-grad\n",
              "48839        HS-grad\n",
              "48840        HS-grad\n",
              "48841        HS-grad\n",
              "\n",
              "[48842 rows x 1 columns]"
            ]
          },
          "metadata": {},
          "execution_count": 16
        }
      ]
    },
    {
      "cell_type": "markdown",
      "metadata": {
        "id": "EPQNrky18jBR"
      },
      "source": [
        "<div class=\"admonition note alert alert-info\">\n",
        "<p class=\"first admonition-title\" style=\"font-weight: bold;\">Note</p>\n",
        "<p><tt class=\"docutils literal\">sparse=False</tt> is used in the <tt class=\"docutils literal\">OneHotEncoder</tt> for didactic purposes, namely\n",
        "easier visualization of the data.</p>\n",
        "<p class=\"last\">Sparse matrices are efficient data structures when most of your matrix\n",
        "elements are zero. They won't be covered in detail in this course. If you\n",
        "want more details about them, you can look at\n",
        "<a class=\"reference external\" href=\"https://scipy-lectures.org/advanced/scipy_sparse/introduction.html#why-sparse-matrices\">this</a>.</p>\n",
        "</div>"
      ],
      "id": "EPQNrky18jBR"
    },
    {
      "cell_type": "markdown",
      "metadata": {
        "id": "yPXFHzfM8jBR"
      },
      "source": [
        "We see that encoding a single feature will give a NumPy array full of zeros\n",
        "and ones. We can get a better understanding using the associated feature\n",
        "names resulting from the transformation."
      ],
      "id": "yPXFHzfM8jBR"
    },
    {
      "cell_type": "code",
      "source": [
        "pd.Series(encoder.get_feature_names_out(input_features=[\"education\"],))\n",
        "# encoder.get_feature_names() # get_feature_names() will be deprecated"
      ],
      "metadata": {
        "colab": {
          "base_uri": "https://localhost:8080/"
        },
        "id": "kXibJf8YkKxR",
        "outputId": "87148ed2-457c-4fd2-b759-c5582ca9aaed"
      },
      "id": "kXibJf8YkKxR",
      "execution_count": 37,
      "outputs": [
        {
          "output_type": "execute_result",
          "data": {
            "text/plain": [
              "0             education_ 10th\n",
              "1             education_ 11th\n",
              "2             education_ 12th\n",
              "3          education_ 1st-4th\n",
              "4          education_ 5th-6th\n",
              "5          education_ 7th-8th\n",
              "6              education_ 9th\n",
              "7       education_ Assoc-acdm\n",
              "8        education_ Assoc-voc\n",
              "9        education_ Bachelors\n",
              "10       education_ Doctorate\n",
              "11         education_ HS-grad\n",
              "12         education_ Masters\n",
              "13       education_ Preschool\n",
              "14     education_ Prof-school\n",
              "15    education_ Some-college\n",
              "dtype: object"
            ]
          },
          "metadata": {},
          "execution_count": 37
        }
      ]
    },
    {
      "cell_type": "code",
      "execution_count": null,
      "metadata": {
        "id": "x8fryfyu8jBR",
        "colab": {
          "base_uri": "https://localhost:8080/",
          "height": 522
        },
        "outputId": "0d8f7317-2989-433c-b694-37b501dc7dc5"
      },
      "outputs": [
        {
          "output_type": "execute_result",
          "data": {
            "text/html": [
              "\n",
              "  <div id=\"df-201ff54d-3d22-487e-b343-48fdcb3e8146\">\n",
              "    <div class=\"colab-df-container\">\n",
              "      <div>\n",
              "<style scoped>\n",
              "    .dataframe tbody tr th:only-of-type {\n",
              "        vertical-align: middle;\n",
              "    }\n",
              "\n",
              "    .dataframe tbody tr th {\n",
              "        vertical-align: top;\n",
              "    }\n",
              "\n",
              "    .dataframe thead th {\n",
              "        text-align: right;\n",
              "    }\n",
              "</style>\n",
              "<table border=\"1\" class=\"dataframe\">\n",
              "  <thead>\n",
              "    <tr style=\"text-align: right;\">\n",
              "      <th></th>\n",
              "      <th>education_ 10th</th>\n",
              "      <th>education_ 11th</th>\n",
              "      <th>education_ 12th</th>\n",
              "      <th>education_ 1st-4th</th>\n",
              "      <th>education_ 5th-6th</th>\n",
              "      <th>education_ 7th-8th</th>\n",
              "      <th>education_ 9th</th>\n",
              "      <th>education_ Assoc-acdm</th>\n",
              "      <th>education_ Assoc-voc</th>\n",
              "      <th>education_ Bachelors</th>\n",
              "      <th>education_ Doctorate</th>\n",
              "      <th>education_ HS-grad</th>\n",
              "      <th>education_ Masters</th>\n",
              "      <th>education_ Preschool</th>\n",
              "      <th>education_ Prof-school</th>\n",
              "      <th>education_ Some-college</th>\n",
              "    </tr>\n",
              "  </thead>\n",
              "  <tbody>\n",
              "    <tr>\n",
              "      <th>0</th>\n",
              "      <td>0.0</td>\n",
              "      <td>1.0</td>\n",
              "      <td>0.0</td>\n",
              "      <td>0.0</td>\n",
              "      <td>0.0</td>\n",
              "      <td>0.0</td>\n",
              "      <td>0.0</td>\n",
              "      <td>0.0</td>\n",
              "      <td>0.0</td>\n",
              "      <td>0.0</td>\n",
              "      <td>0.0</td>\n",
              "      <td>0.0</td>\n",
              "      <td>0.0</td>\n",
              "      <td>0.0</td>\n",
              "      <td>0.0</td>\n",
              "      <td>0.0</td>\n",
              "    </tr>\n",
              "    <tr>\n",
              "      <th>1</th>\n",
              "      <td>0.0</td>\n",
              "      <td>0.0</td>\n",
              "      <td>0.0</td>\n",
              "      <td>0.0</td>\n",
              "      <td>0.0</td>\n",
              "      <td>0.0</td>\n",
              "      <td>0.0</td>\n",
              "      <td>0.0</td>\n",
              "      <td>0.0</td>\n",
              "      <td>0.0</td>\n",
              "      <td>0.0</td>\n",
              "      <td>1.0</td>\n",
              "      <td>0.0</td>\n",
              "      <td>0.0</td>\n",
              "      <td>0.0</td>\n",
              "      <td>0.0</td>\n",
              "    </tr>\n",
              "    <tr>\n",
              "      <th>2</th>\n",
              "      <td>0.0</td>\n",
              "      <td>0.0</td>\n",
              "      <td>0.0</td>\n",
              "      <td>0.0</td>\n",
              "      <td>0.0</td>\n",
              "      <td>0.0</td>\n",
              "      <td>0.0</td>\n",
              "      <td>1.0</td>\n",
              "      <td>0.0</td>\n",
              "      <td>0.0</td>\n",
              "      <td>0.0</td>\n",
              "      <td>0.0</td>\n",
              "      <td>0.0</td>\n",
              "      <td>0.0</td>\n",
              "      <td>0.0</td>\n",
              "      <td>0.0</td>\n",
              "    </tr>\n",
              "    <tr>\n",
              "      <th>3</th>\n",
              "      <td>0.0</td>\n",
              "      <td>0.0</td>\n",
              "      <td>0.0</td>\n",
              "      <td>0.0</td>\n",
              "      <td>0.0</td>\n",
              "      <td>0.0</td>\n",
              "      <td>0.0</td>\n",
              "      <td>0.0</td>\n",
              "      <td>0.0</td>\n",
              "      <td>0.0</td>\n",
              "      <td>0.0</td>\n",
              "      <td>0.0</td>\n",
              "      <td>0.0</td>\n",
              "      <td>0.0</td>\n",
              "      <td>0.0</td>\n",
              "      <td>1.0</td>\n",
              "    </tr>\n",
              "    <tr>\n",
              "      <th>4</th>\n",
              "      <td>0.0</td>\n",
              "      <td>0.0</td>\n",
              "      <td>0.0</td>\n",
              "      <td>0.0</td>\n",
              "      <td>0.0</td>\n",
              "      <td>0.0</td>\n",
              "      <td>0.0</td>\n",
              "      <td>0.0</td>\n",
              "      <td>0.0</td>\n",
              "      <td>0.0</td>\n",
              "      <td>0.0</td>\n",
              "      <td>0.0</td>\n",
              "      <td>0.0</td>\n",
              "      <td>0.0</td>\n",
              "      <td>0.0</td>\n",
              "      <td>1.0</td>\n",
              "    </tr>\n",
              "    <tr>\n",
              "      <th>...</th>\n",
              "      <td>...</td>\n",
              "      <td>...</td>\n",
              "      <td>...</td>\n",
              "      <td>...</td>\n",
              "      <td>...</td>\n",
              "      <td>...</td>\n",
              "      <td>...</td>\n",
              "      <td>...</td>\n",
              "      <td>...</td>\n",
              "      <td>...</td>\n",
              "      <td>...</td>\n",
              "      <td>...</td>\n",
              "      <td>...</td>\n",
              "      <td>...</td>\n",
              "      <td>...</td>\n",
              "      <td>...</td>\n",
              "    </tr>\n",
              "    <tr>\n",
              "      <th>48837</th>\n",
              "      <td>0.0</td>\n",
              "      <td>0.0</td>\n",
              "      <td>0.0</td>\n",
              "      <td>0.0</td>\n",
              "      <td>0.0</td>\n",
              "      <td>0.0</td>\n",
              "      <td>0.0</td>\n",
              "      <td>1.0</td>\n",
              "      <td>0.0</td>\n",
              "      <td>0.0</td>\n",
              "      <td>0.0</td>\n",
              "      <td>0.0</td>\n",
              "      <td>0.0</td>\n",
              "      <td>0.0</td>\n",
              "      <td>0.0</td>\n",
              "      <td>0.0</td>\n",
              "    </tr>\n",
              "    <tr>\n",
              "      <th>48838</th>\n",
              "      <td>0.0</td>\n",
              "      <td>0.0</td>\n",
              "      <td>0.0</td>\n",
              "      <td>0.0</td>\n",
              "      <td>0.0</td>\n",
              "      <td>0.0</td>\n",
              "      <td>0.0</td>\n",
              "      <td>0.0</td>\n",
              "      <td>0.0</td>\n",
              "      <td>0.0</td>\n",
              "      <td>0.0</td>\n",
              "      <td>1.0</td>\n",
              "      <td>0.0</td>\n",
              "      <td>0.0</td>\n",
              "      <td>0.0</td>\n",
              "      <td>0.0</td>\n",
              "    </tr>\n",
              "    <tr>\n",
              "      <th>48839</th>\n",
              "      <td>0.0</td>\n",
              "      <td>0.0</td>\n",
              "      <td>0.0</td>\n",
              "      <td>0.0</td>\n",
              "      <td>0.0</td>\n",
              "      <td>0.0</td>\n",
              "      <td>0.0</td>\n",
              "      <td>0.0</td>\n",
              "      <td>0.0</td>\n",
              "      <td>0.0</td>\n",
              "      <td>0.0</td>\n",
              "      <td>1.0</td>\n",
              "      <td>0.0</td>\n",
              "      <td>0.0</td>\n",
              "      <td>0.0</td>\n",
              "      <td>0.0</td>\n",
              "    </tr>\n",
              "    <tr>\n",
              "      <th>48840</th>\n",
              "      <td>0.0</td>\n",
              "      <td>0.0</td>\n",
              "      <td>0.0</td>\n",
              "      <td>0.0</td>\n",
              "      <td>0.0</td>\n",
              "      <td>0.0</td>\n",
              "      <td>0.0</td>\n",
              "      <td>0.0</td>\n",
              "      <td>0.0</td>\n",
              "      <td>0.0</td>\n",
              "      <td>0.0</td>\n",
              "      <td>1.0</td>\n",
              "      <td>0.0</td>\n",
              "      <td>0.0</td>\n",
              "      <td>0.0</td>\n",
              "      <td>0.0</td>\n",
              "    </tr>\n",
              "    <tr>\n",
              "      <th>48841</th>\n",
              "      <td>0.0</td>\n",
              "      <td>0.0</td>\n",
              "      <td>0.0</td>\n",
              "      <td>0.0</td>\n",
              "      <td>0.0</td>\n",
              "      <td>0.0</td>\n",
              "      <td>0.0</td>\n",
              "      <td>0.0</td>\n",
              "      <td>0.0</td>\n",
              "      <td>0.0</td>\n",
              "      <td>0.0</td>\n",
              "      <td>1.0</td>\n",
              "      <td>0.0</td>\n",
              "      <td>0.0</td>\n",
              "      <td>0.0</td>\n",
              "      <td>0.0</td>\n",
              "    </tr>\n",
              "  </tbody>\n",
              "</table>\n",
              "<p>48842 rows × 16 columns</p>\n",
              "</div>\n",
              "      <button class=\"colab-df-convert\" onclick=\"convertToInteractive('df-201ff54d-3d22-487e-b343-48fdcb3e8146')\"\n",
              "              title=\"Convert this dataframe to an interactive table.\"\n",
              "              style=\"display:none;\">\n",
              "        \n",
              "  <svg xmlns=\"http://www.w3.org/2000/svg\" height=\"24px\"viewBox=\"0 0 24 24\"\n",
              "       width=\"24px\">\n",
              "    <path d=\"M0 0h24v24H0V0z\" fill=\"none\"/>\n",
              "    <path d=\"M18.56 5.44l.94 2.06.94-2.06 2.06-.94-2.06-.94-.94-2.06-.94 2.06-2.06.94zm-11 1L8.5 8.5l.94-2.06 2.06-.94-2.06-.94L8.5 2.5l-.94 2.06-2.06.94zm10 10l.94 2.06.94-2.06 2.06-.94-2.06-.94-.94-2.06-.94 2.06-2.06.94z\"/><path d=\"M17.41 7.96l-1.37-1.37c-.4-.4-.92-.59-1.43-.59-.52 0-1.04.2-1.43.59L10.3 9.45l-7.72 7.72c-.78.78-.78 2.05 0 2.83L4 21.41c.39.39.9.59 1.41.59.51 0 1.02-.2 1.41-.59l7.78-7.78 2.81-2.81c.8-.78.8-2.07 0-2.86zM5.41 20L4 18.59l7.72-7.72 1.47 1.35L5.41 20z\"/>\n",
              "  </svg>\n",
              "      </button>\n",
              "      \n",
              "  <style>\n",
              "    .colab-df-container {\n",
              "      display:flex;\n",
              "      flex-wrap:wrap;\n",
              "      gap: 12px;\n",
              "    }\n",
              "\n",
              "    .colab-df-convert {\n",
              "      background-color: #E8F0FE;\n",
              "      border: none;\n",
              "      border-radius: 50%;\n",
              "      cursor: pointer;\n",
              "      display: none;\n",
              "      fill: #1967D2;\n",
              "      height: 32px;\n",
              "      padding: 0 0 0 0;\n",
              "      width: 32px;\n",
              "    }\n",
              "\n",
              "    .colab-df-convert:hover {\n",
              "      background-color: #E2EBFA;\n",
              "      box-shadow: 0px 1px 2px rgba(60, 64, 67, 0.3), 0px 1px 3px 1px rgba(60, 64, 67, 0.15);\n",
              "      fill: #174EA6;\n",
              "    }\n",
              "\n",
              "    [theme=dark] .colab-df-convert {\n",
              "      background-color: #3B4455;\n",
              "      fill: #D2E3FC;\n",
              "    }\n",
              "\n",
              "    [theme=dark] .colab-df-convert:hover {\n",
              "      background-color: #434B5C;\n",
              "      box-shadow: 0px 1px 3px 1px rgba(0, 0, 0, 0.15);\n",
              "      filter: drop-shadow(0px 1px 2px rgba(0, 0, 0, 0.3));\n",
              "      fill: #FFFFFF;\n",
              "    }\n",
              "  </style>\n",
              "\n",
              "      <script>\n",
              "        const buttonEl =\n",
              "          document.querySelector('#df-201ff54d-3d22-487e-b343-48fdcb3e8146 button.colab-df-convert');\n",
              "        buttonEl.style.display =\n",
              "          google.colab.kernel.accessAllowed ? 'block' : 'none';\n",
              "\n",
              "        async function convertToInteractive(key) {\n",
              "          const element = document.querySelector('#df-201ff54d-3d22-487e-b343-48fdcb3e8146');\n",
              "          const dataTable =\n",
              "            await google.colab.kernel.invokeFunction('convertToInteractive',\n",
              "                                                     [key], {});\n",
              "          if (!dataTable) return;\n",
              "\n",
              "          const docLinkHtml = 'Like what you see? Visit the ' +\n",
              "            '<a target=\"_blank\" href=https://colab.research.google.com/notebooks/data_table.ipynb>data table notebook</a>'\n",
              "            + ' to learn more about interactive tables.';\n",
              "          element.innerHTML = '';\n",
              "          dataTable['output_type'] = 'display_data';\n",
              "          await google.colab.output.renderOutput(dataTable, element);\n",
              "          const docLink = document.createElement('div');\n",
              "          docLink.innerHTML = docLinkHtml;\n",
              "          element.appendChild(docLink);\n",
              "        }\n",
              "      </script>\n",
              "    </div>\n",
              "  </div>\n",
              "  "
            ],
            "text/plain": [
              "       education_ 10th  education_ 11th  education_ 12th  education_ 1st-4th  \\\n",
              "0                  0.0              1.0              0.0                 0.0   \n",
              "1                  0.0              0.0              0.0                 0.0   \n",
              "2                  0.0              0.0              0.0                 0.0   \n",
              "3                  0.0              0.0              0.0                 0.0   \n",
              "4                  0.0              0.0              0.0                 0.0   \n",
              "...                ...              ...              ...                 ...   \n",
              "48837              0.0              0.0              0.0                 0.0   \n",
              "48838              0.0              0.0              0.0                 0.0   \n",
              "48839              0.0              0.0              0.0                 0.0   \n",
              "48840              0.0              0.0              0.0                 0.0   \n",
              "48841              0.0              0.0              0.0                 0.0   \n",
              "\n",
              "       education_ 5th-6th  education_ 7th-8th  education_ 9th  \\\n",
              "0                     0.0                 0.0             0.0   \n",
              "1                     0.0                 0.0             0.0   \n",
              "2                     0.0                 0.0             0.0   \n",
              "3                     0.0                 0.0             0.0   \n",
              "4                     0.0                 0.0             0.0   \n",
              "...                   ...                 ...             ...   \n",
              "48837                 0.0                 0.0             0.0   \n",
              "48838                 0.0                 0.0             0.0   \n",
              "48839                 0.0                 0.0             0.0   \n",
              "48840                 0.0                 0.0             0.0   \n",
              "48841                 0.0                 0.0             0.0   \n",
              "\n",
              "       education_ Assoc-acdm  education_ Assoc-voc  education_ Bachelors  \\\n",
              "0                        0.0                   0.0                   0.0   \n",
              "1                        0.0                   0.0                   0.0   \n",
              "2                        1.0                   0.0                   0.0   \n",
              "3                        0.0                   0.0                   0.0   \n",
              "4                        0.0                   0.0                   0.0   \n",
              "...                      ...                   ...                   ...   \n",
              "48837                    1.0                   0.0                   0.0   \n",
              "48838                    0.0                   0.0                   0.0   \n",
              "48839                    0.0                   0.0                   0.0   \n",
              "48840                    0.0                   0.0                   0.0   \n",
              "48841                    0.0                   0.0                   0.0   \n",
              "\n",
              "       education_ Doctorate  education_ HS-grad  education_ Masters  \\\n",
              "0                       0.0                 0.0                 0.0   \n",
              "1                       0.0                 1.0                 0.0   \n",
              "2                       0.0                 0.0                 0.0   \n",
              "3                       0.0                 0.0                 0.0   \n",
              "4                       0.0                 0.0                 0.0   \n",
              "...                     ...                 ...                 ...   \n",
              "48837                   0.0                 0.0                 0.0   \n",
              "48838                   0.0                 1.0                 0.0   \n",
              "48839                   0.0                 1.0                 0.0   \n",
              "48840                   0.0                 1.0                 0.0   \n",
              "48841                   0.0                 1.0                 0.0   \n",
              "\n",
              "       education_ Preschool  education_ Prof-school  education_ Some-college  \n",
              "0                       0.0                     0.0                      0.0  \n",
              "1                       0.0                     0.0                      0.0  \n",
              "2                       0.0                     0.0                      0.0  \n",
              "3                       0.0                     0.0                      1.0  \n",
              "4                       0.0                     0.0                      1.0  \n",
              "...                     ...                     ...                      ...  \n",
              "48837                   0.0                     0.0                      0.0  \n",
              "48838                   0.0                     0.0                      0.0  \n",
              "48839                   0.0                     0.0                      0.0  \n",
              "48840                   0.0                     0.0                      0.0  \n",
              "48841                   0.0                     0.0                      0.0  \n",
              "\n",
              "[48842 rows x 16 columns]"
            ]
          },
          "metadata": {},
          "execution_count": 59
        }
      ],
      "source": [
        "# Presenting this way is easier to understand\n",
        "feature_names = encoder.get_feature_names_out(input_features=[\"education\"])\n",
        "education_encoded = pd.DataFrame(education_encoded, columns=feature_names)\n",
        "education_encoded"
      ],
      "id": "x8fryfyu8jBR"
    },
    {
      "cell_type": "markdown",
      "metadata": {
        "id": "hc4rOBuY8jBR"
      },
      "source": [
        "As we can see, each category (unique value) became a column; the encoding\n",
        "returned, for each sample, a 1 to specify which category it belongs to.\n",
        "\n",
        "Let's apply this encoding on the full dataset."
      ],
      "id": "hc4rOBuY8jBR"
    },
    {
      "cell_type": "code",
      "execution_count": null,
      "metadata": {
        "id": "aQ1iU0bi8jBS",
        "colab": {
          "base_uri": "https://localhost:8080/",
          "height": 223
        },
        "outputId": "c8d6f1a2-8d8c-42cf-f0f9-67459eb6d5ce"
      },
      "outputs": [
        {
          "output_type": "stream",
          "name": "stdout",
          "text": [
            "The dataset is composed of 8 features\n"
          ]
        },
        {
          "output_type": "execute_result",
          "data": {
            "text/html": [
              "\n",
              "  <div id=\"df-0141c08d-da51-4241-aca9-f12e75755965\">\n",
              "    <div class=\"colab-df-container\">\n",
              "      <div>\n",
              "<style scoped>\n",
              "    .dataframe tbody tr th:only-of-type {\n",
              "        vertical-align: middle;\n",
              "    }\n",
              "\n",
              "    .dataframe tbody tr th {\n",
              "        vertical-align: top;\n",
              "    }\n",
              "\n",
              "    .dataframe thead th {\n",
              "        text-align: right;\n",
              "    }\n",
              "</style>\n",
              "<table border=\"1\" class=\"dataframe\">\n",
              "  <thead>\n",
              "    <tr style=\"text-align: right;\">\n",
              "      <th></th>\n",
              "      <th>workclass</th>\n",
              "      <th>education</th>\n",
              "      <th>marital-status</th>\n",
              "      <th>occupation</th>\n",
              "      <th>relationship</th>\n",
              "      <th>race</th>\n",
              "      <th>sex</th>\n",
              "      <th>native-country</th>\n",
              "    </tr>\n",
              "  </thead>\n",
              "  <tbody>\n",
              "    <tr>\n",
              "      <th>0</th>\n",
              "      <td>Private</td>\n",
              "      <td>11th</td>\n",
              "      <td>Never-married</td>\n",
              "      <td>Machine-op-inspct</td>\n",
              "      <td>Own-child</td>\n",
              "      <td>Black</td>\n",
              "      <td>Male</td>\n",
              "      <td>United-States</td>\n",
              "    </tr>\n",
              "    <tr>\n",
              "      <th>1</th>\n",
              "      <td>Private</td>\n",
              "      <td>HS-grad</td>\n",
              "      <td>Married-civ-spouse</td>\n",
              "      <td>Farming-fishing</td>\n",
              "      <td>Husband</td>\n",
              "      <td>White</td>\n",
              "      <td>Male</td>\n",
              "      <td>United-States</td>\n",
              "    </tr>\n",
              "    <tr>\n",
              "      <th>2</th>\n",
              "      <td>Local-gov</td>\n",
              "      <td>Assoc-acdm</td>\n",
              "      <td>Married-civ-spouse</td>\n",
              "      <td>Protective-serv</td>\n",
              "      <td>Husband</td>\n",
              "      <td>White</td>\n",
              "      <td>Male</td>\n",
              "      <td>United-States</td>\n",
              "    </tr>\n",
              "    <tr>\n",
              "      <th>3</th>\n",
              "      <td>Private</td>\n",
              "      <td>Some-college</td>\n",
              "      <td>Married-civ-spouse</td>\n",
              "      <td>Machine-op-inspct</td>\n",
              "      <td>Husband</td>\n",
              "      <td>Black</td>\n",
              "      <td>Male</td>\n",
              "      <td>United-States</td>\n",
              "    </tr>\n",
              "    <tr>\n",
              "      <th>4</th>\n",
              "      <td>?</td>\n",
              "      <td>Some-college</td>\n",
              "      <td>Never-married</td>\n",
              "      <td>?</td>\n",
              "      <td>Own-child</td>\n",
              "      <td>White</td>\n",
              "      <td>Female</td>\n",
              "      <td>United-States</td>\n",
              "    </tr>\n",
              "  </tbody>\n",
              "</table>\n",
              "</div>\n",
              "      <button class=\"colab-df-convert\" onclick=\"convertToInteractive('df-0141c08d-da51-4241-aca9-f12e75755965')\"\n",
              "              title=\"Convert this dataframe to an interactive table.\"\n",
              "              style=\"display:none;\">\n",
              "        \n",
              "  <svg xmlns=\"http://www.w3.org/2000/svg\" height=\"24px\"viewBox=\"0 0 24 24\"\n",
              "       width=\"24px\">\n",
              "    <path d=\"M0 0h24v24H0V0z\" fill=\"none\"/>\n",
              "    <path d=\"M18.56 5.44l.94 2.06.94-2.06 2.06-.94-2.06-.94-.94-2.06-.94 2.06-2.06.94zm-11 1L8.5 8.5l.94-2.06 2.06-.94-2.06-.94L8.5 2.5l-.94 2.06-2.06.94zm10 10l.94 2.06.94-2.06 2.06-.94-2.06-.94-.94-2.06-.94 2.06-2.06.94z\"/><path d=\"M17.41 7.96l-1.37-1.37c-.4-.4-.92-.59-1.43-.59-.52 0-1.04.2-1.43.59L10.3 9.45l-7.72 7.72c-.78.78-.78 2.05 0 2.83L4 21.41c.39.39.9.59 1.41.59.51 0 1.02-.2 1.41-.59l7.78-7.78 2.81-2.81c.8-.78.8-2.07 0-2.86zM5.41 20L4 18.59l7.72-7.72 1.47 1.35L5.41 20z\"/>\n",
              "  </svg>\n",
              "      </button>\n",
              "      \n",
              "  <style>\n",
              "    .colab-df-container {\n",
              "      display:flex;\n",
              "      flex-wrap:wrap;\n",
              "      gap: 12px;\n",
              "    }\n",
              "\n",
              "    .colab-df-convert {\n",
              "      background-color: #E8F0FE;\n",
              "      border: none;\n",
              "      border-radius: 50%;\n",
              "      cursor: pointer;\n",
              "      display: none;\n",
              "      fill: #1967D2;\n",
              "      height: 32px;\n",
              "      padding: 0 0 0 0;\n",
              "      width: 32px;\n",
              "    }\n",
              "\n",
              "    .colab-df-convert:hover {\n",
              "      background-color: #E2EBFA;\n",
              "      box-shadow: 0px 1px 2px rgba(60, 64, 67, 0.3), 0px 1px 3px 1px rgba(60, 64, 67, 0.15);\n",
              "      fill: #174EA6;\n",
              "    }\n",
              "\n",
              "    [theme=dark] .colab-df-convert {\n",
              "      background-color: #3B4455;\n",
              "      fill: #D2E3FC;\n",
              "    }\n",
              "\n",
              "    [theme=dark] .colab-df-convert:hover {\n",
              "      background-color: #434B5C;\n",
              "      box-shadow: 0px 1px 3px 1px rgba(0, 0, 0, 0.15);\n",
              "      filter: drop-shadow(0px 1px 2px rgba(0, 0, 0, 0.3));\n",
              "      fill: #FFFFFF;\n",
              "    }\n",
              "  </style>\n",
              "\n",
              "      <script>\n",
              "        const buttonEl =\n",
              "          document.querySelector('#df-0141c08d-da51-4241-aca9-f12e75755965 button.colab-df-convert');\n",
              "        buttonEl.style.display =\n",
              "          google.colab.kernel.accessAllowed ? 'block' : 'none';\n",
              "\n",
              "        async function convertToInteractive(key) {\n",
              "          const element = document.querySelector('#df-0141c08d-da51-4241-aca9-f12e75755965');\n",
              "          const dataTable =\n",
              "            await google.colab.kernel.invokeFunction('convertToInteractive',\n",
              "                                                     [key], {});\n",
              "          if (!dataTable) return;\n",
              "\n",
              "          const docLinkHtml = 'Like what you see? Visit the ' +\n",
              "            '<a target=\"_blank\" href=https://colab.research.google.com/notebooks/data_table.ipynb>data table notebook</a>'\n",
              "            + ' to learn more about interactive tables.';\n",
              "          element.innerHTML = '';\n",
              "          dataTable['output_type'] = 'display_data';\n",
              "          await google.colab.output.renderOutput(dataTable, element);\n",
              "          const docLink = document.createElement('div');\n",
              "          docLink.innerHTML = docLinkHtml;\n",
              "          element.appendChild(docLink);\n",
              "        }\n",
              "      </script>\n",
              "    </div>\n",
              "  </div>\n",
              "  "
            ],
            "text/plain": [
              "    workclass      education       marital-status          occupation  \\\n",
              "0     Private           11th        Never-married   Machine-op-inspct   \n",
              "1     Private        HS-grad   Married-civ-spouse     Farming-fishing   \n",
              "2   Local-gov     Assoc-acdm   Married-civ-spouse     Protective-serv   \n",
              "3     Private   Some-college   Married-civ-spouse   Machine-op-inspct   \n",
              "4           ?   Some-college        Never-married                   ?   \n",
              "\n",
              "  relationship    race      sex  native-country  \n",
              "0    Own-child   Black     Male   United-States  \n",
              "1      Husband   White     Male   United-States  \n",
              "2      Husband   White     Male   United-States  \n",
              "3      Husband   Black     Male   United-States  \n",
              "4    Own-child   White   Female   United-States  "
            ]
          },
          "metadata": {},
          "execution_count": 61
        }
      ],
      "source": [
        "print(\n",
        "    f\"The dataset is composed of {data_categorical.shape[1]} features\")\n",
        "data_categorical.head()"
      ],
      "id": "aQ1iU0bi8jBS"
    },
    {
      "cell_type": "code",
      "execution_count": 55,
      "metadata": {
        "id": "RMRtC_lS8jBS",
        "colab": {
          "base_uri": "https://localhost:8080/"
        },
        "outputId": "bfb99ee5-aca1-4896-d3a9-c452f1343dee"
      },
      "outputs": [
        {
          "output_type": "execute_result",
          "data": {
            "text/plain": [
              "array([[0., 0., 0., 0., 1., 0., 0., 0., 0., 0., 1., 0., 0., 0., 0., 0.,\n",
              "        0., 0., 0., 0., 0., 0., 0., 0., 0., 0., 0., 0., 0., 1., 0., 0.,\n",
              "        0., 0., 0., 0., 0., 0., 0., 1., 0., 0., 0., 0., 0., 0., 0., 0.,\n",
              "        0., 0., 1., 0., 0., 0., 0., 1., 0., 0., 0., 1., 0., 0., 0., 0.,\n",
              "        0., 0., 0., 0., 0., 0., 0., 0., 0., 0., 0., 0., 0., 0., 0., 0.,\n",
              "        0., 0., 0., 0., 0., 0., 0., 0., 0., 0., 0., 0., 0., 0., 0., 0.,\n",
              "        0., 0., 0., 1., 0., 0.],\n",
              "       [0., 0., 0., 0., 1., 0., 0., 0., 0., 0., 0., 0., 0., 0., 0., 0.,\n",
              "        0., 0., 0., 0., 1., 0., 0., 0., 0., 0., 0., 1., 0., 0., 0., 0.,\n",
              "        0., 0., 0., 0., 0., 1., 0., 0., 0., 0., 0., 0., 0., 0., 0., 1.,\n",
              "        0., 0., 0., 0., 0., 0., 0., 0., 0., 1., 0., 1., 0., 0., 0., 0.,\n",
              "        0., 0., 0., 0., 0., 0., 0., 0., 0., 0., 0., 0., 0., 0., 0., 0.,\n",
              "        0., 0., 0., 0., 0., 0., 0., 0., 0., 0., 0., 0., 0., 0., 0., 0.,\n",
              "        0., 0., 0., 1., 0., 0.],\n",
              "       [0., 0., 1., 0., 0., 0., 0., 0., 0., 0., 0., 0., 0., 0., 0., 0.,\n",
              "        1., 0., 0., 0., 0., 0., 0., 0., 0., 0., 0., 1., 0., 0., 0., 0.,\n",
              "        0., 0., 0., 0., 0., 0., 0., 0., 0., 0., 0., 1., 0., 0., 0., 1.,\n",
              "        0., 0., 0., 0., 0., 0., 0., 0., 0., 1., 0., 1., 0., 0., 0., 0.,\n",
              "        0., 0., 0., 0., 0., 0., 0., 0., 0., 0., 0., 0., 0., 0., 0., 0.,\n",
              "        0., 0., 0., 0., 0., 0., 0., 0., 0., 0., 0., 0., 0., 0., 0., 0.,\n",
              "        0., 0., 0., 1., 0., 0.],\n",
              "       [0., 0., 0., 0., 1., 0., 0., 0., 0., 0., 0., 0., 0., 0., 0., 0.,\n",
              "        0., 0., 0., 0., 0., 0., 0., 0., 1., 0., 0., 1., 0., 0., 0., 0.,\n",
              "        0., 0., 0., 0., 0., 0., 0., 1., 0., 0., 0., 0., 0., 0., 0., 1.,\n",
              "        0., 0., 0., 0., 0., 0., 0., 1., 0., 0., 0., 1., 0., 0., 0., 0.,\n",
              "        0., 0., 0., 0., 0., 0., 0., 0., 0., 0., 0., 0., 0., 0., 0., 0.,\n",
              "        0., 0., 0., 0., 0., 0., 0., 0., 0., 0., 0., 0., 0., 0., 0., 0.,\n",
              "        0., 0., 0., 1., 0., 0.],\n",
              "       [1., 0., 0., 0., 0., 0., 0., 0., 0., 0., 0., 0., 0., 0., 0., 0.,\n",
              "        0., 0., 0., 0., 0., 0., 0., 0., 1., 0., 0., 0., 0., 1., 0., 0.,\n",
              "        1., 0., 0., 0., 0., 0., 0., 0., 0., 0., 0., 0., 0., 0., 0., 0.,\n",
              "        0., 0., 1., 0., 0., 0., 0., 0., 0., 1., 1., 0., 0., 0., 0., 0.,\n",
              "        0., 0., 0., 0., 0., 0., 0., 0., 0., 0., 0., 0., 0., 0., 0., 0.,\n",
              "        0., 0., 0., 0., 0., 0., 0., 0., 0., 0., 0., 0., 0., 0., 0., 0.,\n",
              "        0., 0., 0., 1., 0., 0.]])"
            ]
          },
          "metadata": {},
          "execution_count": 55
        }
      ],
      "source": [
        "data_encoded = encoder.fit_transform(data_categorical)\n",
        "data_encoded[:5]"
      ],
      "id": "RMRtC_lS8jBS"
    },
    {
      "cell_type": "code",
      "execution_count": 56,
      "metadata": {
        "id": "fWQan1PW8jBS",
        "colab": {
          "base_uri": "https://localhost:8080/"
        },
        "outputId": "6c160007-799a-469b-a503-2bdb420944d7"
      },
      "outputs": [
        {
          "output_type": "stream",
          "name": "stdout",
          "text": [
            "The encoded dataset contains 102 features\n"
          ]
        }
      ],
      "source": [
        "print(\n",
        "    f\"The encoded dataset contains {data_encoded.shape[1]} features\")"
      ],
      "id": "fWQan1PW8jBS"
    },
    {
      "cell_type": "code",
      "source": [
        "# Each subarray has 102 numbers and they are the sum of the number of unique values in the categorical features. \n",
        "print(data_categorical.nunique(),\n",
        "      '\\n')\n",
        "9+16+7+15+6+5+2+42"
      ],
      "metadata": {
        "colab": {
          "base_uri": "https://localhost:8080/"
        },
        "id": "Bb6oGJXS67uE",
        "outputId": "5dfdb59c-4d67-4a4c-bd1e-3edbb4b41c80"
      },
      "id": "Bb6oGJXS67uE",
      "execution_count": 48,
      "outputs": [
        {
          "output_type": "stream",
          "name": "stdout",
          "text": [
            "workclass          9\n",
            "education         16\n",
            "marital-status     7\n",
            "occupation        15\n",
            "relationship       6\n",
            "race               5\n",
            "sex                2\n",
            "native-country    42\n",
            "dtype: int64 \n",
            "\n"
          ]
        },
        {
          "output_type": "execute_result",
          "data": {
            "text/plain": [
              "102"
            ]
          },
          "metadata": {},
          "execution_count": 48
        }
      ]
    },
    {
      "cell_type": "markdown",
      "metadata": {
        "id": "EA3RKvfj8jBS"
      },
      "source": [
        "Let's wrap this NumPy array in a dataframe with informative column names as\n",
        "provided by the encoder object:"
      ],
      "id": "EA3RKvfj8jBS"
    },
    {
      "cell_type": "code",
      "execution_count": 60,
      "metadata": {
        "id": "ZZFmKgj38jBT",
        "colab": {
          "base_uri": "https://localhost:8080/",
          "height": 351
        },
        "outputId": "ed159114-3da5-4c7d-cb80-b561647a9c8c"
      },
      "outputs": [
        {
          "output_type": "execute_result",
          "data": {
            "text/html": [
              "\n",
              "  <div id=\"df-18c69fe0-704c-491c-a334-99d7076f3ad8\">\n",
              "    <div class=\"colab-df-container\">\n",
              "      <div>\n",
              "<style scoped>\n",
              "    .dataframe tbody tr th:only-of-type {\n",
              "        vertical-align: middle;\n",
              "    }\n",
              "\n",
              "    .dataframe tbody tr th {\n",
              "        vertical-align: top;\n",
              "    }\n",
              "\n",
              "    .dataframe thead th {\n",
              "        text-align: right;\n",
              "    }\n",
              "</style>\n",
              "<table border=\"1\" class=\"dataframe\">\n",
              "  <thead>\n",
              "    <tr style=\"text-align: right;\">\n",
              "      <th></th>\n",
              "      <th>workclass_ ?</th>\n",
              "      <th>workclass_ Federal-gov</th>\n",
              "      <th>workclass_ Local-gov</th>\n",
              "      <th>workclass_ Never-worked</th>\n",
              "      <th>workclass_ Private</th>\n",
              "      <th>workclass_ Self-emp-inc</th>\n",
              "      <th>workclass_ Self-emp-not-inc</th>\n",
              "      <th>workclass_ State-gov</th>\n",
              "      <th>workclass_ Without-pay</th>\n",
              "      <th>education_ 10th</th>\n",
              "      <th>...</th>\n",
              "      <th>native-country_ Portugal</th>\n",
              "      <th>native-country_ Puerto-Rico</th>\n",
              "      <th>native-country_ Scotland</th>\n",
              "      <th>native-country_ South</th>\n",
              "      <th>native-country_ Taiwan</th>\n",
              "      <th>native-country_ Thailand</th>\n",
              "      <th>native-country_ Trinadad&amp;Tobago</th>\n",
              "      <th>native-country_ United-States</th>\n",
              "      <th>native-country_ Vietnam</th>\n",
              "      <th>native-country_ Yugoslavia</th>\n",
              "    </tr>\n",
              "  </thead>\n",
              "  <tbody>\n",
              "    <tr>\n",
              "      <th>0</th>\n",
              "      <td>0.0</td>\n",
              "      <td>0.0</td>\n",
              "      <td>0.0</td>\n",
              "      <td>0.0</td>\n",
              "      <td>1.0</td>\n",
              "      <td>0.0</td>\n",
              "      <td>0.0</td>\n",
              "      <td>0.0</td>\n",
              "      <td>0.0</td>\n",
              "      <td>0.0</td>\n",
              "      <td>...</td>\n",
              "      <td>0.0</td>\n",
              "      <td>0.0</td>\n",
              "      <td>0.0</td>\n",
              "      <td>0.0</td>\n",
              "      <td>0.0</td>\n",
              "      <td>0.0</td>\n",
              "      <td>0.0</td>\n",
              "      <td>1.0</td>\n",
              "      <td>0.0</td>\n",
              "      <td>0.0</td>\n",
              "    </tr>\n",
              "    <tr>\n",
              "      <th>1</th>\n",
              "      <td>0.0</td>\n",
              "      <td>0.0</td>\n",
              "      <td>0.0</td>\n",
              "      <td>0.0</td>\n",
              "      <td>1.0</td>\n",
              "      <td>0.0</td>\n",
              "      <td>0.0</td>\n",
              "      <td>0.0</td>\n",
              "      <td>0.0</td>\n",
              "      <td>0.0</td>\n",
              "      <td>...</td>\n",
              "      <td>0.0</td>\n",
              "      <td>0.0</td>\n",
              "      <td>0.0</td>\n",
              "      <td>0.0</td>\n",
              "      <td>0.0</td>\n",
              "      <td>0.0</td>\n",
              "      <td>0.0</td>\n",
              "      <td>1.0</td>\n",
              "      <td>0.0</td>\n",
              "      <td>0.0</td>\n",
              "    </tr>\n",
              "    <tr>\n",
              "      <th>2</th>\n",
              "      <td>0.0</td>\n",
              "      <td>0.0</td>\n",
              "      <td>1.0</td>\n",
              "      <td>0.0</td>\n",
              "      <td>0.0</td>\n",
              "      <td>0.0</td>\n",
              "      <td>0.0</td>\n",
              "      <td>0.0</td>\n",
              "      <td>0.0</td>\n",
              "      <td>0.0</td>\n",
              "      <td>...</td>\n",
              "      <td>0.0</td>\n",
              "      <td>0.0</td>\n",
              "      <td>0.0</td>\n",
              "      <td>0.0</td>\n",
              "      <td>0.0</td>\n",
              "      <td>0.0</td>\n",
              "      <td>0.0</td>\n",
              "      <td>1.0</td>\n",
              "      <td>0.0</td>\n",
              "      <td>0.0</td>\n",
              "    </tr>\n",
              "    <tr>\n",
              "      <th>3</th>\n",
              "      <td>0.0</td>\n",
              "      <td>0.0</td>\n",
              "      <td>0.0</td>\n",
              "      <td>0.0</td>\n",
              "      <td>1.0</td>\n",
              "      <td>0.0</td>\n",
              "      <td>0.0</td>\n",
              "      <td>0.0</td>\n",
              "      <td>0.0</td>\n",
              "      <td>0.0</td>\n",
              "      <td>...</td>\n",
              "      <td>0.0</td>\n",
              "      <td>0.0</td>\n",
              "      <td>0.0</td>\n",
              "      <td>0.0</td>\n",
              "      <td>0.0</td>\n",
              "      <td>0.0</td>\n",
              "      <td>0.0</td>\n",
              "      <td>1.0</td>\n",
              "      <td>0.0</td>\n",
              "      <td>0.0</td>\n",
              "    </tr>\n",
              "    <tr>\n",
              "      <th>4</th>\n",
              "      <td>1.0</td>\n",
              "      <td>0.0</td>\n",
              "      <td>0.0</td>\n",
              "      <td>0.0</td>\n",
              "      <td>0.0</td>\n",
              "      <td>0.0</td>\n",
              "      <td>0.0</td>\n",
              "      <td>0.0</td>\n",
              "      <td>0.0</td>\n",
              "      <td>0.0</td>\n",
              "      <td>...</td>\n",
              "      <td>0.0</td>\n",
              "      <td>0.0</td>\n",
              "      <td>0.0</td>\n",
              "      <td>0.0</td>\n",
              "      <td>0.0</td>\n",
              "      <td>0.0</td>\n",
              "      <td>0.0</td>\n",
              "      <td>1.0</td>\n",
              "      <td>0.0</td>\n",
              "      <td>0.0</td>\n",
              "    </tr>\n",
              "  </tbody>\n",
              "</table>\n",
              "<p>5 rows × 102 columns</p>\n",
              "</div>\n",
              "      <button class=\"colab-df-convert\" onclick=\"convertToInteractive('df-18c69fe0-704c-491c-a334-99d7076f3ad8')\"\n",
              "              title=\"Convert this dataframe to an interactive table.\"\n",
              "              style=\"display:none;\">\n",
              "        \n",
              "  <svg xmlns=\"http://www.w3.org/2000/svg\" height=\"24px\"viewBox=\"0 0 24 24\"\n",
              "       width=\"24px\">\n",
              "    <path d=\"M0 0h24v24H0V0z\" fill=\"none\"/>\n",
              "    <path d=\"M18.56 5.44l.94 2.06.94-2.06 2.06-.94-2.06-.94-.94-2.06-.94 2.06-2.06.94zm-11 1L8.5 8.5l.94-2.06 2.06-.94-2.06-.94L8.5 2.5l-.94 2.06-2.06.94zm10 10l.94 2.06.94-2.06 2.06-.94-2.06-.94-.94-2.06-.94 2.06-2.06.94z\"/><path d=\"M17.41 7.96l-1.37-1.37c-.4-.4-.92-.59-1.43-.59-.52 0-1.04.2-1.43.59L10.3 9.45l-7.72 7.72c-.78.78-.78 2.05 0 2.83L4 21.41c.39.39.9.59 1.41.59.51 0 1.02-.2 1.41-.59l7.78-7.78 2.81-2.81c.8-.78.8-2.07 0-2.86zM5.41 20L4 18.59l7.72-7.72 1.47 1.35L5.41 20z\"/>\n",
              "  </svg>\n",
              "      </button>\n",
              "      \n",
              "  <style>\n",
              "    .colab-df-container {\n",
              "      display:flex;\n",
              "      flex-wrap:wrap;\n",
              "      gap: 12px;\n",
              "    }\n",
              "\n",
              "    .colab-df-convert {\n",
              "      background-color: #E8F0FE;\n",
              "      border: none;\n",
              "      border-radius: 50%;\n",
              "      cursor: pointer;\n",
              "      display: none;\n",
              "      fill: #1967D2;\n",
              "      height: 32px;\n",
              "      padding: 0 0 0 0;\n",
              "      width: 32px;\n",
              "    }\n",
              "\n",
              "    .colab-df-convert:hover {\n",
              "      background-color: #E2EBFA;\n",
              "      box-shadow: 0px 1px 2px rgba(60, 64, 67, 0.3), 0px 1px 3px 1px rgba(60, 64, 67, 0.15);\n",
              "      fill: #174EA6;\n",
              "    }\n",
              "\n",
              "    [theme=dark] .colab-df-convert {\n",
              "      background-color: #3B4455;\n",
              "      fill: #D2E3FC;\n",
              "    }\n",
              "\n",
              "    [theme=dark] .colab-df-convert:hover {\n",
              "      background-color: #434B5C;\n",
              "      box-shadow: 0px 1px 3px 1px rgba(0, 0, 0, 0.15);\n",
              "      filter: drop-shadow(0px 1px 2px rgba(0, 0, 0, 0.3));\n",
              "      fill: #FFFFFF;\n",
              "    }\n",
              "  </style>\n",
              "\n",
              "      <script>\n",
              "        const buttonEl =\n",
              "          document.querySelector('#df-18c69fe0-704c-491c-a334-99d7076f3ad8 button.colab-df-convert');\n",
              "        buttonEl.style.display =\n",
              "          google.colab.kernel.accessAllowed ? 'block' : 'none';\n",
              "\n",
              "        async function convertToInteractive(key) {\n",
              "          const element = document.querySelector('#df-18c69fe0-704c-491c-a334-99d7076f3ad8');\n",
              "          const dataTable =\n",
              "            await google.colab.kernel.invokeFunction('convertToInteractive',\n",
              "                                                     [key], {});\n",
              "          if (!dataTable) return;\n",
              "\n",
              "          const docLinkHtml = 'Like what you see? Visit the ' +\n",
              "            '<a target=\"_blank\" href=https://colab.research.google.com/notebooks/data_table.ipynb>data table notebook</a>'\n",
              "            + ' to learn more about interactive tables.';\n",
              "          element.innerHTML = '';\n",
              "          dataTable['output_type'] = 'display_data';\n",
              "          await google.colab.output.renderOutput(dataTable, element);\n",
              "          const docLink = document.createElement('div');\n",
              "          docLink.innerHTML = docLinkHtml;\n",
              "          element.appendChild(docLink);\n",
              "        }\n",
              "      </script>\n",
              "    </div>\n",
              "  </div>\n",
              "  "
            ],
            "text/plain": [
              "   workclass_ ?  workclass_ Federal-gov  workclass_ Local-gov  \\\n",
              "0           0.0                     0.0                   0.0   \n",
              "1           0.0                     0.0                   0.0   \n",
              "2           0.0                     0.0                   1.0   \n",
              "3           0.0                     0.0                   0.0   \n",
              "4           1.0                     0.0                   0.0   \n",
              "\n",
              "   workclass_ Never-worked  workclass_ Private  workclass_ Self-emp-inc  \\\n",
              "0                      0.0                 1.0                      0.0   \n",
              "1                      0.0                 1.0                      0.0   \n",
              "2                      0.0                 0.0                      0.0   \n",
              "3                      0.0                 1.0                      0.0   \n",
              "4                      0.0                 0.0                      0.0   \n",
              "\n",
              "   workclass_ Self-emp-not-inc  workclass_ State-gov  workclass_ Without-pay  \\\n",
              "0                          0.0                   0.0                     0.0   \n",
              "1                          0.0                   0.0                     0.0   \n",
              "2                          0.0                   0.0                     0.0   \n",
              "3                          0.0                   0.0                     0.0   \n",
              "4                          0.0                   0.0                     0.0   \n",
              "\n",
              "   education_ 10th  ...  native-country_ Portugal  \\\n",
              "0              0.0  ...                       0.0   \n",
              "1              0.0  ...                       0.0   \n",
              "2              0.0  ...                       0.0   \n",
              "3              0.0  ...                       0.0   \n",
              "4              0.0  ...                       0.0   \n",
              "\n",
              "   native-country_ Puerto-Rico  native-country_ Scotland  \\\n",
              "0                          0.0                       0.0   \n",
              "1                          0.0                       0.0   \n",
              "2                          0.0                       0.0   \n",
              "3                          0.0                       0.0   \n",
              "4                          0.0                       0.0   \n",
              "\n",
              "   native-country_ South  native-country_ Taiwan  native-country_ Thailand  \\\n",
              "0                    0.0                     0.0                       0.0   \n",
              "1                    0.0                     0.0                       0.0   \n",
              "2                    0.0                     0.0                       0.0   \n",
              "3                    0.0                     0.0                       0.0   \n",
              "4                    0.0                     0.0                       0.0   \n",
              "\n",
              "   native-country_ Trinadad&Tobago  native-country_ United-States  \\\n",
              "0                              0.0                            1.0   \n",
              "1                              0.0                            1.0   \n",
              "2                              0.0                            1.0   \n",
              "3                              0.0                            1.0   \n",
              "4                              0.0                            1.0   \n",
              "\n",
              "   native-country_ Vietnam  native-country_ Yugoslavia  \n",
              "0                      0.0                         0.0  \n",
              "1                      0.0                         0.0  \n",
              "2                      0.0                         0.0  \n",
              "3                      0.0                         0.0  \n",
              "4                      0.0                         0.0  \n",
              "\n",
              "[5 rows x 102 columns]"
            ]
          },
          "metadata": {},
          "execution_count": 60
        }
      ],
      "source": [
        "columns_encoded = encoder.get_feature_names_out(data_categorical.columns)\n",
        "pd.DataFrame(data_encoded, columns=columns_encoded).head()"
      ],
      "id": "ZZFmKgj38jBT"
    },
    {
      "cell_type": "markdown",
      "metadata": {
        "id": "gNXQitRE8jBT"
      },
      "source": [
        "Look at how the `\"workclass\"` variable of the 3 first records has been\n",
        "encoded and compare this to the original string representation.\n",
        "\n",
        "The number of features after the encoding is more than 10 times larger than\n",
        "in the original data because some variables such as `occupation` and\n",
        "`native-country` have many possible categories."
      ],
      "id": "gNXQitRE8jBT"
    },
    {
      "cell_type": "markdown",
      "metadata": {
        "id": "H-0zWOwR8jBT"
      },
      "source": [
        "### Choosing an encoding strategy\n",
        "\n",
        "Choosing an encoding strategy will depend on the underlying models and the\n",
        "type of categories (i.e. ordinal vs. nominal)."
      ],
      "id": "H-0zWOwR8jBT"
    },
    {
      "cell_type": "markdown",
      "metadata": {
        "id": "zRtq5dGB8jBT"
      },
      "source": [
        "<div class=\"admonition note alert alert-info\">\n",
        "<p class=\"first admonition-title\" style=\"font-weight: bold;\">Note</p>\n",
        "<p class=\"last\">In general <tt class=\"docutils literal\">OneHotEncoder</tt> is the encoding strategy used when the\n",
        "downstream models are <strong>linear models</strong> while <tt class=\"docutils literal\">OrdinalEncoder</tt> is often a\n",
        "good strategy with <strong>tree-based models</strong>.</p>\n",
        "</div>"
      ],
      "id": "zRtq5dGB8jBT"
    },
    {
      "cell_type": "markdown",
      "metadata": {
        "id": "Uq9V-qPx8jBT"
      },
      "source": [
        "\n",
        "Using an `OrdinalEncoder` will output ordinal categories. This means\n",
        "that there is an order in the resulting categories (e.g. `0 < 1 < 2`). The\n",
        "impact of violating this ordering assumption is really dependent on the\n",
        "downstream models. Linear models will be impacted by misordered categories\n",
        "while tree-based models will not.\n",
        "\n",
        "You can still use an `OrdinalEncoder` with linear models but you need to be\n",
        "sure that:\n",
        "- the original categories (before encoding) have an ordering;\n",
        "- the encoded categories follow the same ordering than the original\n",
        "  categories.\n",
        "The **next exercise** highlights the issue of misusing `OrdinalEncoder` with\n",
        "a linear model.\n",
        "\n",
        "One-hot encoding categorical variables with high cardinality can cause \n",
        "computational inefficiency in tree-based models. Because of this, it is not recommended\n",
        "to use `OneHotEncoder` in such cases even if the original categories do not \n",
        "have a given order. We will show this in the **final exercise** of this sequence."
      ],
      "id": "Uq9V-qPx8jBT"
    },
    {
      "cell_type": "markdown",
      "metadata": {
        "id": "Qqks4MSF8jBT"
      },
      "source": [
        "## Evaluate our predictive pipeline\n",
        "\n",
        "We can now integrate this encoder inside a machine learning pipeline like we\n",
        "did with numerical data: let's train a linear classifier on the encoded data\n",
        "and check the generalization performance of this machine learning pipeline using\n",
        "cross-validation.\n",
        "\n",
        "Before we create the pipeline, we have to linger on the `native-country`.\n",
        "Let's recall some statistics regarding this column."
      ],
      "id": "Qqks4MSF8jBT"
    },
    {
      "cell_type": "code",
      "execution_count": 61,
      "metadata": {
        "id": "FniDDAIg8jBU",
        "colab": {
          "base_uri": "https://localhost:8080/"
        },
        "outputId": "33610045-1ae2-4594-fb7b-88997062de70"
      },
      "outputs": [
        {
          "output_type": "execute_result",
          "data": {
            "text/plain": [
              " United-States                 43832\n",
              " Mexico                          951\n",
              " ?                               857\n",
              " Philippines                     295\n",
              " Germany                         206\n",
              " Puerto-Rico                     184\n",
              " Canada                          182\n",
              " El-Salvador                     155\n",
              " India                           151\n",
              " Cuba                            138\n",
              " England                         127\n",
              " China                           122\n",
              " South                           115\n",
              " Jamaica                         106\n",
              " Italy                           105\n",
              " Dominican-Republic              103\n",
              " Japan                            92\n",
              " Guatemala                        88\n",
              " Poland                           87\n",
              " Vietnam                          86\n",
              " Columbia                         85\n",
              " Haiti                            75\n",
              " Portugal                         67\n",
              " Taiwan                           65\n",
              " Iran                             59\n",
              " Greece                           49\n",
              " Nicaragua                        49\n",
              " Peru                             46\n",
              " Ecuador                          45\n",
              " France                           38\n",
              " Ireland                          37\n",
              " Hong                             30\n",
              " Thailand                         30\n",
              " Cambodia                         28\n",
              " Trinadad&Tobago                  27\n",
              " Laos                             23\n",
              " Yugoslavia                       23\n",
              " Outlying-US(Guam-USVI-etc)       23\n",
              " Scotland                         21\n",
              " Honduras                         20\n",
              " Hungary                          19\n",
              " Holand-Netherlands                1\n",
              "Name: native-country, dtype: int64"
            ]
          },
          "metadata": {},
          "execution_count": 61
        }
      ],
      "source": [
        "data[\"native-country\"].value_counts()"
      ],
      "id": "FniDDAIg8jBU"
    },
    {
      "cell_type": "markdown",
      "metadata": {
        "id": "237hhmC88jBU"
      },
      "source": [
        "We see that the `Holand-Netherlands` category is occurring rarely. This will\n",
        "be a problem during cross-validation: if the sample ends up in the test set\n",
        "during splitting then the classifier would not have seen the category during\n",
        "training and will not be able to encode it.\n",
        "\n",
        "In scikit-learn, there are two solutions to bypass this issue:\n",
        "\n",
        "* list all the possible categories and provide it to the encoder via the\n",
        "  keyword argument `categories`;\n",
        "* use the parameter `handle_unknown`.\n",
        "\n",
        "Here, we will use the latter solution for simplicity."
      ],
      "id": "237hhmC88jBU"
    },
    {
      "cell_type": "markdown",
      "metadata": {
        "id": "-VqbuADP8jBU"
      },
      "source": [
        "<div class=\"admonition tip alert alert-warning\">\n",
        "<p class=\"first admonition-title\" style=\"font-weight: bold;\">Tip</p>\n",
        "<p class=\"last\">Be aware the <tt class=\"docutils literal\">OrdinalEncoder</tt> exposes as well a parameter\n",
        "<tt class=\"docutils literal\">handle_unknown</tt>. It can be set to <tt class=\"docutils literal\">use_encoded_value</tt> and by setting\n",
        "<tt class=\"docutils literal\">unknown_value</tt> to handle rare categories. You are going to use these\n",
        "parameters in the next exercise.</p>\n",
        "</div>"
      ],
      "id": "-VqbuADP8jBU"
    },
    {
      "cell_type": "markdown",
      "metadata": {
        "id": "5KY5ovpl8jBU"
      },
      "source": [
        "We can now create our machine learning pipeline."
      ],
      "id": "5KY5ovpl8jBU"
    },
    {
      "cell_type": "code",
      "execution_count": 62,
      "metadata": {
        "id": "5AeU8fTC8jBV"
      },
      "outputs": [],
      "source": [
        "from sklearn.pipeline import make_pipeline\n",
        "from sklearn.linear_model import LogisticRegression\n",
        "\n",
        "model = make_pipeline(\n",
        "    OneHotEncoder(handle_unknown=\"ignore\"), LogisticRegression(max_iter=500) # handle_unknown: error (default) or ignore\n",
        ")"
      ],
      "id": "5AeU8fTC8jBV"
    },
    {
      "cell_type": "markdown",
      "metadata": {
        "id": "43uoeDOf8jBV"
      },
      "source": [
        "<div class=\"admonition note alert alert-info\">\n",
        "<p class=\"first admonition-title\" style=\"font-weight: bold;\">Note</p>\n",
        "<p class=\"last\">Here, we need to increase the maximum number of iterations to obtain a fully\n",
        "converged <tt class=\"docutils literal\">LogisticRegression</tt> and silence a <tt class=\"docutils literal\">ConvergenceWarning</tt>. Contrary\n",
        "to the numerical features, the one-hot encoded categorical features are all\n",
        "on the same scale (values are 0 or 1), so they would not benefit from\n",
        "scaling. In this case, increasing <tt class=\"docutils literal\">max_iter</tt> is the right thing to do.</p>\n",
        "</div>"
      ],
      "id": "43uoeDOf8jBV"
    },
    {
      "cell_type": "markdown",
      "metadata": {
        "id": "v7TcrJEY8jBV"
      },
      "source": [
        "Finally, we can check the model's generalization performance only using the\n",
        "categorical columns."
      ],
      "id": "v7TcrJEY8jBV"
    },
    {
      "cell_type": "code",
      "execution_count": 63,
      "metadata": {
        "id": "6W7AHdpg8jBV",
        "colab": {
          "base_uri": "https://localhost:8080/"
        },
        "outputId": "13713c7e-67bd-4913-cb41-f3af2e35f081"
      },
      "outputs": [
        {
          "output_type": "execute_result",
          "data": {
            "text/plain": [
              "{'fit_time': array([1.54480553, 1.45295477, 1.66102934, 1.47210526, 1.61347651]),\n",
              " 'score_time': array([0.04496217, 0.04022193, 0.0404377 , 0.04251909, 0.0403018 ]),\n",
              " 'test_score': array([0.83222438, 0.83560242, 0.82872645, 0.83312858, 0.83466421])}"
            ]
          },
          "metadata": {},
          "execution_count": 63
        }
      ],
      "source": [
        "from sklearn.model_selection import cross_validate\n",
        "cv_results = cross_validate(model, data_categorical, target)\n",
        "cv_results"
      ],
      "id": "6W7AHdpg8jBV"
    },
    {
      "cell_type": "code",
      "execution_count": 64,
      "metadata": {
        "id": "vcAwL7I78jBV",
        "colab": {
          "base_uri": "https://localhost:8080/"
        },
        "outputId": "a51e7c5b-a0c3-40ab-ef0f-3968172c6a82"
      },
      "outputs": [
        {
          "output_type": "stream",
          "name": "stdout",
          "text": [
            "The accuracy is: 0.833 +/- 0.002\n"
          ]
        }
      ],
      "source": [
        "scores = cv_results[\"test_score\"]\n",
        "print(f\"The accuracy is: {scores.mean():.3f} +/- {scores.std():.3f}\")"
      ],
      "id": "vcAwL7I78jBV"
    },
    {
      "cell_type": "markdown",
      "metadata": {
        "id": "R8tqqBip8jBW"
      },
      "source": [
        "As you can see, this representation of the categorical variables is\n",
        "slightly more predictive of the revenue than the numerical variables\n",
        "that we used previously."
      ],
      "id": "R8tqqBip8jBW"
    },
    {
      "cell_type": "markdown",
      "metadata": {
        "id": "gpjE210j8jBW"
      },
      "source": [
        "\n",
        "In this notebook we have:\n",
        "* seen two common strategies for encoding categorical features: **ordinal\n",
        "  encoding** and **one-hot encoding**;\n",
        "* used a **pipeline** to use a **one-hot encoder** before fitting a logistic\n",
        "  regression."
      ],
      "id": "gpjE210j8jBW"
    }
  ],
  "metadata": {
    "jupytext": {
      "main_language": "python"
    },
    "kernelspec": {
      "display_name": "Python 3",
      "name": "python3"
    },
    "nbreset": "https://github.com/INRIA/scikit-learn-mooc/raw/main/notebooks/03_categorical_pipeline.ipynb",
    "colab": {
      "name": "03-1_categorical_pipeline.ipynb",
      "provenance": [],
      "collapsed_sections": [],
      "include_colab_link": true
    }
  },
  "nbformat": 4,
  "nbformat_minor": 5
}